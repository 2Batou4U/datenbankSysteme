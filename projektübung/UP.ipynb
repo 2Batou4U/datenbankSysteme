{
 "cells": [
  {
   "cell_type": "markdown",
   "source": [
    "# Projektübung\n",
    "\n",
    "Das ist das [Übungsblatt](DBS-Projektübungsblatt-SS23.pdf).\n",
    "\n",
    "+-----------------+               +--------------+                 +--------------+\n",
    "|     Person      |               |   Building   |                 |     Goods    |\n",
    "+-----------------+               +--------------+                 +--------------+\n",
    "|     Person_ID   |               |  Building_ID |                 |   Goods_ID   |\n",
    "|      Name       |1          1..\\*|     Value    |         1     1..\\*|    Name      |\n",
    "|      Age        |------------->|    Address   |---------+--------|    Seller    |\n",
    "|      Job        |               |House_Number |         |        |   Quantity   |\n",
    "|     Status      |               +--------------+         |        +--------------+\n",
    "+-----------------+                                      |\n",
    "        |                                                 |\n",
    "        |                                                 |\n",
    "  1..*  |                                        1        |\n",
    "+------------------+                          +--------------+\n",
    "|   Relationship   |                          |    Owner     |\n",
    "+------------------+                          +--------------+\n",
    "|    Person_ID_1   |                  1..*    | Building_ID  |\n",
    "|    Person_ID_2   |------------------------>| Person_ID    |\n",
    "+------------------+                          +--------------+\n",
    "        |                                                 |\n",
    "        |                                                 |\n",
    "   2..4 |                                         1       |\n",
    "+------------------+                          +--------------+\n",
    "|   Neighbors      |                          |   Job        |\n",
    "+------------------+                          +--------------+\n",
    "|    Building_ID_1 |                  1       |    Job_ID    |\n",
    "|    Building_ID_2 |------------------------>|     Name     |\n",
    "+------------------+                          |  Avg_Salary  |\n",
    "                                              +--------------+\n"
   ],
   "metadata": {
    "collapsed": false
   }
  },
  {
   "cell_type": "code",
   "execution_count": null,
   "outputs": [],
   "source": [],
   "metadata": {
    "collapsed": false
   }
  }
 ],
 "metadata": {
  "kernelspec": {
   "display_name": "Python 3",
   "language": "python",
   "name": "python3"
  },
  "language_info": {
   "codemirror_mode": {
    "name": "ipython",
    "version": 2
   },
   "file_extension": ".py",
   "mimetype": "text/x-python",
   "name": "python",
   "nbconvert_exporter": "python",
   "pygments_lexer": "ipython2",
   "version": "2.7.6"
  }
 },
 "nbformat": 4,
 "nbformat_minor": 0
}
