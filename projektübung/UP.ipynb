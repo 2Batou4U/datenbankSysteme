{
 "cells": [
  {
   "cell_type": "markdown",
   "source": [
    "# Projektübung\n",
    "\n",
    "Das ist das [Übungsblatt](DBS-Projektübungsblatt-SS23.pdf).\n",
    "\n",
    "Erstellen der Tabelle Besitzer:\n",
    "```sql\n",
    "use fantasy_welt;\n",
    "create table besitzer\n",
    "(\n",
    "    besitzer_id int not null auto_increment,\n",
    "    b_name varchar(20),\n",
    "    b_geld float default 0,\n",
    "    constraint besitzer_pk primary key (besitzer_id)\n",
    ");\n",
    "```\n",
    "\n",
    "Erstellen der Tabelle Ort:\n",
    "```sql\n",
    "create table ort\n",
    "(\n",
    "  besitzer_id int null,\n",
    "  adresse varchar(30) null,\n",
    "  constraint ort_besitzer_besitzer_id_fk foreign key (besitzer_id) references besitzer (besitzer_id)\n",
    ");\n",
    "```\n",
    "\n",
    "Erstellen der Tabelle Item:\n",
    "```sql\n",
    " create table item\n",
    "(\n",
    "  item_id int auto_increment,\n",
    "  name varchar(20) null,\n",
    "  geldwert float default 0.0 null,\n",
    "  besitzer int null,\n",
    "  constraint item_pk primary key (item_id),\n",
    "  constraint item_besitzer_besitzer_id_fk foreign key (besitzer) references besitzer (besitzer_id)\n",
    ");\n",
    "```"
   ],
   "metadata": {
    "collapsed": false
   }
  },
  {
   "cell_type": "code",
   "execution_count": null,
   "outputs": [],
   "source": [],
   "metadata": {
    "collapsed": false
   }
  }
 ],
 "metadata": {
  "kernelspec": {
   "display_name": "Python 3",
   "language": "python",
   "name": "python3"
  },
  "language_info": {
   "codemirror_mode": {
    "name": "ipython",
    "version": 2
   },
   "file_extension": ".py",
   "mimetype": "text/x-python",
   "name": "python",
   "nbconvert_exporter": "python",
   "pygments_lexer": "ipython2",
   "version": "2.7.6"
  }
 },
 "nbformat": 4,
 "nbformat_minor": 0
}
