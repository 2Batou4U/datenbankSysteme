{
 "cells": [
  {
   "cell_type": "markdown",
   "source": [
    "# Projektübung\n",
    "\n",
    "Das ist das [Übungsblatt](static/DBS-Projektübungsblatt-SS23.pdf).\n",
    "\n",
    "## Aufgabe 1\n",
    "\n",
    "#### 1. ER-Diagramm\n",
    "\n",
    "Unser ER-Diagramm ist zunächst so aufgebaut, wie im Text beschrieben. Die Ausnahmen bzw. die freien Entscheidungen, die wir getroffen haben, sind zunächst:\n",
    "\n",
    "1. Art von **Residence** wird anhand der Spalte *Type* festgelegt. Wir hätten zwar die einzelnen Immobilien in eigene Tabellen auskoppeln können, um so einen besseren Überblick zu behalten, jedoch sind die Funktionen, wie etwa die unterschiedliche Anzahl der Einwohner, durch Trigger leicht zu überwachen.\n",
    "2. Die Relationen, Attribute, etc. wurden ins Englische übersetzt, weil ich Englisch mag. :information_desk_person:\n",
    "3. Eine Person kann gar keine Verwandte haben. Ihr Name reicht aus, um sie zu identifizieren, da in unserer Fantasy-Welt die Personen komische Fantasy-Namen haben, die sich nicht wiederholen.\n",
    "\n",
    "![Aufgabe 1](static/Projekt_Aufg1_v2.png)\n",
    "\n",
    "\n",
    "#### 2. Relationen-Schema\n",
    "\n",
    "Hier [kommt](https://media.tenor.com/9t0nUulOT8EAAAAC/ive-come-optimus-comes.gif) unser Relationen-Schema. In diesem Aufgabenteil zeigen wir unsere Fähigkeit von einer Grafik abzuschreiben.\n",
    "\n",
    "- Person = { <u>Name: string <u>, Status: boolean, Age: int, Beruf}\n",
    "- relative = { <u>PersonID: int</u>, <u>PersonID: int</u>}\n",
    "- Job = {<u> Bezeichnung: string <u>, Salary: float}\n",
    "- Guild = {<u>Address+Nr: string</u>, Mitglied: string}\n",
    "- Building = {Address+Nr: string, Value: float, <u>PersonID: int</u>}\n",
    "- neighbor = {<u>Address+Nr: string</u>, <u>Address+Nr: string</u>}\n",
    "- living_quarter = {<u>Address+Nr: string</u>, Person: string}\n",
    "- mansion = {<u>Address+Nr: string</u>, Person: string}\n",
    "- suburban_home = {<u>Address+Nr: string</u>, Person: string}\n",
    "- Shop = {<u>Address+Nr: string</u>, Name: string, Verkäufer: string}\n",
    "- Ware = {<u>Bezeichnung: string</u>,Amount: int,  <u>Address+Nr: string</u>}\n",
    "\n",
    "Außerdem nennen wir Beispiele für Delete/Insert/Update Anomalien:\n",
    "\n",
    "- Delete: Rein theoretisch (unser Entwurf ist makellos und jede Imperfektion ist rein spekulativ) könnte eine solche Anomalie entstehen, wenn wir beispielsweise eine **Person** löschen, diese aber immer noch in einer **Residence** als Besitzer eingetragen ist. In diesem Fall könnte man mittels `on delete set null` nachhelfen.\n",
    "\n",
    "- Insert: Weiterhin abstrakt betrachtet, könnte diese Art Missgeschick durch das Einfügen einer **Person** geschehen und der Zuweisung dieser auf eine **Residence**. Ist man hier nicht so schlau, gutaussehend und fromm wie wir, kann man die Trigger vergessen, die verhindern, dass der Grenzwert der **Residence** überschritten wird. Somit würden nach dem Insert mehr Personen in einer **Residence** leben als vorgesehen.\n",
    "\n",
    "- Update: Komische Reihenfolge, um die Anomalien zu behandeln, oder? Stellen wir uns weiterhin vor, dass an unserem Entwurf irgendwas auszusetzen ist. Würde man beispielsweise den *Namen* einer **Person** ändern, weil sie in unser Fantasy-Zeugenschutzprogramm aufgenommen wird, so würde diese immer noch in **relative** mit ihren alten *Namen* referenziert werden. Hier könnte man als Lösung einen anderen Primary Key (PK) als den *Namen* der **Person** nehmen. *hust* *hust*\n",
    "\n",
    "\n",
    "#### 3. Modell Normalisieren\n",
    "Wir haben nun unser Relationen-Schema aufgebaut, nun ist es an der Zeit dieses zu verbessern.\n",
    "\n",
    "![Aufgabe 1](static/Projekt_Aufg1_3.jpg)"
   ],
   "metadata": {
    "collapsed": false
   }
  },
  {
   "cell_type": "markdown",
   "source": [
    "## Aufgabe 2\n",
    "\n",
    "Testen wir wie gut das TeX-Plugin von Jupyter Notebooks funktioniert.\n",
    "\n",
    "#### Relationale Algebra\n",
    "\n",
    "1. $ \\pi_{Rasse} (Haustier) $\n",
    "2. $ \\sigma_{BesitzerID} (\\sigma_{IstIn = 'Datenbanksysteme'} (Avatar)) $\n",
    "3. $ \\pi_{BesitzerID} ((Avatar \\times Avatar) \\minus duellieren)$\n",
    "\n",
    "Sieht doch überraschend gut aus. Weiter geht's!\n",
    "\n",
    "#### Tupelkalkül\n",
    "\n",
    "1. $ (\\{i.Name, a.Name, s.Name\\} | a \\in Avatar \\land \\exists i: i \\in Item \\land \\exists s: s \\in Shop \\land s.Geldwert > a.Geldwert) $\n",
    "2. $ (\\{e\\} | e \\in Eigenschaft \\land \\forall i: i \\in Item \\land i.Geldwert > 1000) $\n",
    "3. $ (\\{d\\} | d \\in Dungeon \\land \\exists i: i \\in Item \\land i.Name = 'Datenbanksystemschein' \\land \\neg \\exists a: a \\in Avatar \\land i.Besitzer = a.BesitzerID) $\n",
    "\n",
    "Gott, ich $\\neg$hasse $\\LaTeX$!\n",
    "\n",
    "#### Domänenkalkül\n",
    "\n",
    "1. $ \\{ n | Avatar(n,\\_,\\_,\\_,\\_,\\_,\\_) \\land Team(n,\\_,a) \\land a > 0.8 \\} $\n",
    "2. $ \\{ n_{1} | Avatar(n_{1},\\_,\\_,\\_,\\_,\\_,\\_) \\land duellieren (n_{1}, n_{2}) \\land n_{2} = 'Atzmüller' \\land Item (\\_, i, \\_, \\_) \\land \\neg i = 'Datenbanksystemschein'\\} $\n",
    "3. $ \\{ n | Haustier(\\_, n, k, \\_, s) \\land k > 9000 \\land s \\geq 0.8 \\}$\n",
    "\n",
    "Der $\\LaTeX$-[Schmerz](https://genius.com/Mick-gordon-i-dogma-lyrics) kennt keine Grenzen."
   ],
   "metadata": {
    "collapsed": false
   }
  },
  {
   "cell_type": "markdown",
   "source": [
    "## Aufgabe 3\n",
    "\n",
    "Wir schreiben dieses Notebook, nachdem die Datenbank, sowie die Python-Datei fertig sind, deswegen ist es durchaus möglich, dass wir einzelne Gedankenprozesse, wenn man sie so nennen kann, vielleicht vergessen haben oder nicht mehr nachvollziehen können.\n",
    "\n",
    "Sowy >.<\n",
    "\n",
    "#### Datenbank, Tabellen, Beispiel-Instanzen\n",
    "\n",
    "Das Datenbankschema kann nicht aus dem Python-Code heraus erstellt werden, weswegen wir diese per Hand erstellen. Als Manager wurde hier nicht Beekeeper Studio verwendet, sondern das Datenbank-Modul unter PyCharm Professional, da es Hilfe jenseits von *'There is an Error in your SQL Syntax'* bietet. Jedenfalls erstellen wir unser Datenbankschema '***fantasy_welt***' mit:\n",
    "\n",
    "```sql\n",
    "create schema fantasy_welt;\n",
    "```\n",
    "\n",
    "Die zugehörigen Dis*Connector Funktionen sind in der Python-Datei zu sehen. Zum Testen wurde ein externer Server verwendet, damit alle am gleichen Datensatz arbeiten können und damit Adrian sich nicht weiter aufregt, dass er monatlich 10 € für einen Server ohne Nutzen ausgeben muss.\n",
    "\n",
    "Zur Behandlung von Exceptions wird hier eine neue Klasse erstellt, die von Exceptions erbt. Der große Vorteil an diesem Vorgehen ist, dass wir in der Exception direkt sagen können, wo diese auftritt, ohne einen Traceback von 50 Konsolen-Zeilen zu haben.\n",
    "\n",
    "In diesem Kontext wird die Prüfung auf sinnvolle Eingaben durch das Nicht-Kritische werfen von Exceptions gehandhabt, da in jedem Fall der SQL-Server besser definieren kann was falsch lief, als wir. Eine alternative Lösung, die ebenfalls elegant wäre, wäre RegEx, jedoch gibt es bestimmt zahlreiche Randfälle, die man hier beachten müsste.\n",
    "\n",
    "Anfangs wurden JSON-Dateien benutzt, um die Befehle zu speichern, was, unserer Ansicht nach, eleganter gewesen wäre, jedoch durften wir das Package *json* nicht benutzen, wodurch sich dieser Plan in Rauch auflöste. Wir benutzen stattdessen mehrzeilige Strings, um die Befehle zu bearbeiten. \n",
    "\n",
    "Außerdem ist es nun der Fall, dass wir vor allem beim Erstellen, sowie Löschen der Tabellen, mehrere Zeilen Code brauchen und diese am besten dem Server auf einmal geben wollen. Dazu muss dem Connector ein neues Argument gegeben werden, nämlich `client_flag=CLIENT.MULTI_STATEMENTS`.\n",
    "\n",
    "Die restlichen Statements, Funktionen, Lösungsansätze, etc. sind der [Connector-Datei](dbs2023ExerciseProject.py), sowie unserer [Test-Datei](query_test.py) zu entnehmen."
   ],
   "metadata": {
    "collapsed": false
   }
  },
  {
   "cell_type": "markdown",
   "source": [
    "Danke für die Aufmerksamkeit!\n",
    "\n",
    "![ThatBritishGuy](https://media.tenor.com/_f0MYA6h-NgAAAAM/lucifer-morningstar-queen.gif)"
   ],
   "metadata": {
    "collapsed": false
   }
  }
 ],
 "metadata": {
  "kernelspec": {
   "display_name": "Python 3",
   "language": "python",
   "name": "python3"
  },
  "language_info": {
   "codemirror_mode": {
    "name": "ipython",
    "version": 2
   },
   "file_extension": ".py",
   "mimetype": "text/x-python",
   "name": "python",
   "nbconvert_exporter": "python",
   "pygments_lexer": "ipython2",
   "version": "2.7.6"
  }
 },
 "nbformat": 4,
 "nbformat_minor": 0
}
