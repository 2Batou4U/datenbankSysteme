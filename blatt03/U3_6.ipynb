{
 "cells": [
  {
   "cell_type": "markdown",
   "source": [
    "## Blatt 3\n",
    "\n",
    "#### Einleitung\n",
    "\n",
    "Willkommen zum dritten Blatt; Fangen wir direkt an. Wir brauchen mehrere packages:\n",
    "\n",
    " - **mariadb**: Wird benutzt,um sich mit dem Server zu verbinden.\n",
    " - **os**: Wird benutzt, um auf Dateien und Ordner zuzugreifen.\n",
    " - **json**: Wird benutzt, um auf die Credentials in Dateien zuzugreifen."
   ],
   "metadata": {
    "collapsed": false
   }
  },
  {
   "cell_type": "code",
   "execution_count": 10,
   "outputs": [],
   "source": [
    "import mariadb\n",
    "import os\n",
    "import json"
   ],
   "metadata": {
    "collapsed": false,
    "ExecuteTime": {
     "end_time": "2023-05-05T08:44:10.440217700Z",
     "start_time": "2023-05-05T08:44:10.420335500Z"
    }
   }
  },
  {
   "cell_type": "markdown",
   "source": [
    "Außerdem brauchen wir auch unser Arbeitsverzeichnis:"
   ],
   "metadata": {
    "collapsed": false
   }
  },
  {
   "cell_type": "code",
   "execution_count": 11,
   "outputs": [],
   "source": [
    "BASE_DIR: str = os.getcwd()"
   ],
   "metadata": {
    "collapsed": false,
    "ExecuteTime": {
     "end_time": "2023-05-05T08:44:11.078644700Z",
     "start_time": "2023-05-05T08:44:11.059385100Z"
    }
   }
  },
  {
   "cell_type": "markdown",
   "source": [
    "#### Serververbindung\n",
    "\n",
    "Der folgende Code wird benutzt, um sich mit unserem MariaDB Server zu verbinden, die Credentials werden aus einer JSON geladen und im Connector eingesetzt. Die Operation '**get_connection**' gibt ein Cursor-Objekt zurück, welches auf die Datenbank zugreifen kann.\n",
    "\n",
    "Die JSON soll folgendermaßen aussehen:\n",
    "\n",
    "```json\n",
    "{\n",
    "  \"uid\": \"benutzer\",\n",
    "  \"pwd\": \"passwort\",\n",
    "  \"dtb\": \"uniDB\",\n",
    "  \"dtb_ip\": \"ip oder url\",\n",
    "  \"dtb_port\": 3306\n",
    "}\n",
    "```"
   ],
   "metadata": {
    "collapsed": false
   }
  },
  {
   "cell_type": "code",
   "execution_count": 19,
   "outputs": [],
   "source": [
    "def get_connection() -> mariadb.Cursor:\n",
    "\n",
    "    with open(os.path.join(BASE_DIR, 'credentials.json')) as creds:\n",
    "        json_creds = json.load(creds)\n",
    "\n",
    "    # Connect to MariaDB Platform\n",
    "    try:\n",
    "        conn = mariadb.connect(\n",
    "            user=json_creds['uid'],\n",
    "            password=json_creds['pwd'],\n",
    "            host=json_creds['dtb_ip'],\n",
    "            port=json_creds['dtb_port'],\n",
    "            database=json_creds['dtb'],\n",
    "            autocommit=True,\n",
    "        )\n",
    "    except mariadb.Error as e:\n",
    "        print(f\"Error connecting to MariaDB Platform: {e}\")\n",
    "        exit(1)\n",
    "\n",
    "    # Get Cursor\n",
    "    return conn.cursor()"
   ],
   "metadata": {
    "collapsed": false,
    "ExecuteTime": {
     "end_time": "2023-05-05T08:45:43.619975200Z",
     "start_time": "2023-05-05T08:45:43.594750100Z"
    }
   }
  },
  {
   "cell_type": "code",
   "execution_count": 20,
   "outputs": [
    {
     "data": {
      "text/plain": "<mariadb.cursor at 00000170AF31B890>"
     },
     "execution_count": 20,
     "metadata": {},
     "output_type": "execute_result"
    }
   ],
   "source": [
    "get_connection()"
   ],
   "metadata": {
    "collapsed": false,
    "ExecuteTime": {
     "end_time": "2023-05-05T08:45:44.231646800Z",
     "start_time": "2023-05-05T08:45:44.031601500Z"
    }
   }
  },
  {
   "cell_type": "code",
   "execution_count": null,
   "outputs": [],
   "source": [],
   "metadata": {
    "collapsed": false
   }
  }
 ],
 "metadata": {
  "kernelspec": {
   "display_name": "Python 3",
   "language": "python",
   "name": "python3"
  },
  "language_info": {
   "codemirror_mode": {
    "name": "ipython",
    "version": 2
   },
   "file_extension": ".py",
   "mimetype": "text/x-python",
   "name": "python",
   "nbconvert_exporter": "python",
   "pygments_lexer": "ipython2",
   "version": "2.7.6"
  }
 },
 "nbformat": 4,
 "nbformat_minor": 0
}
