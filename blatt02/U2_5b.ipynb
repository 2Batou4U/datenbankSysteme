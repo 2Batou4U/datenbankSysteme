{
 "cells": [
  {
   "cell_type": "markdown",
   "source": [
    "## Blatt 2\n",
    "\n",
    "#### Einleitung / Erklärung\n",
    "\n",
    "Hier werden wir mittels Pandas die CSV-Dateien mergen. Wir benutzen nun Pandas, da die Aufgabenstellungen so langsam zu viel Arbeit werden und Atzmüller setzt sowieso voraus, dass man mit Pandas arbeitet, auch ich füge mich nun dieser Anweisung.\n",
    "\n",
    "Imports:\n",
    " - Pandas, um eine möglichst allumfassende Lösung zum Verarbeiten von Datensätzen zu haben.\n",
    " - OS, um Pfade zielsicher erstellen zu können.\n",
    " - Numpy, um den Durchschnitt und den maximalen Wert zu berechnen.\n"
   ],
   "metadata": {
    "collapsed": false
   }
  },
  {
   "cell_type": "code",
   "execution_count": 1,
   "outputs": [],
   "source": [
    "import pandas as pd\n",
    "import numpy as np\n",
    "import os"
   ],
   "metadata": {
    "collapsed": false,
    "ExecuteTime": {
     "start_time": "2023-04-30T15:38:42.258051Z",
     "end_time": "2023-04-30T15:38:42.262049Z"
    }
   }
  },
  {
   "cell_type": "markdown",
   "source": [
    "Erstellen wir nun unsere Pfade für das Arbeitsverzeichnis, sowie den Ordner mit den CSV-Dateien."
   ],
   "metadata": {
    "collapsed": false
   }
  },
  {
   "cell_type": "code",
   "execution_count": 2,
   "outputs": [],
   "source": [
    "BASE_DIR: str = os.getcwd()\n",
    "CSV_DIR: str = os.path.join(BASE_DIR, 'csv')"
   ],
   "metadata": {
    "collapsed": false,
    "ExecuteTime": {
     "start_time": "2023-04-30T15:10:26.695239Z",
     "end_time": "2023-04-30T15:10:26.699834Z"
    }
   }
  },
  {
   "cell_type": "markdown",
   "source": [
    "Jetzt müssen wir noch die Operation zum Lesen und zum Schreiben aus und in die CSV überarbeiten.\n",
    "\n",
    "Die Operation '**read_csv_data**' bekommt einen Dateipfad und versucht diesen einzulesen.\n",
    "\n",
    "Die Operation '**write_csv_data**' bekommt einen Dateipfad, sowie einen DataFrame, den es in die Datei schreiben soll.\n",
    "\n",
    "So einfach kann es gehen, wenn man nicht so stur ist wie ich...."
   ],
   "metadata": {
    "collapsed": false
   }
  },
  {
   "cell_type": "code",
   "execution_count": 3,
   "outputs": [],
   "source": [
    "def read_csv_data(file_name: str) -> list:\n",
    "    return pd.read_csv(filepath_or_buffer=file_name, sep=';', quotechar='\"')"
   ],
   "metadata": {
    "collapsed": false,
    "ExecuteTime": {
     "start_time": "2023-04-30T15:10:26.701643Z",
     "end_time": "2023-04-30T15:10:26.705361Z"
    }
   }
  },
  {
   "cell_type": "code",
   "execution_count": 4,
   "outputs": [],
   "source": [
    "def write_csv_data(file_name: str, df: pd.DataFrame) -> None:\n",
    "    return df.to_csv(file_name)"
   ],
   "metadata": {
    "collapsed": false,
    "ExecuteTime": {
     "start_time": "2023-04-30T15:10:26.709676Z",
     "end_time": "2023-04-30T15:10:26.712303Z"
    }
   }
  },
  {
   "cell_type": "markdown",
   "source": [
    "#### JOIN\n",
    "\n",
    "Schreiben wir nun unsere Join-Anweisung, wir müssen über mehrere Spalten joinen, diese sind in der Liste '**merge_on**' hinterlegt und kommen aus der Aufgabenstellung.\n",
    "\n",
    "Wir mergen die zwei Dataframes df1 und df2 nach dem Literal '**how**' mit den Attributen aus der Liste. Wir benutzen '**on**' benutzen, da die Attribute in den DataFrames gleich sind."
   ],
   "metadata": {
    "collapsed": false
   }
  },
  {
   "cell_type": "code",
   "execution_count": 5,
   "outputs": [],
   "source": [
    "def join_df(df1: pd.DataFrame, df2: pd.DataFrame, how):\n",
    "    merge_on = ['school', 'sex', 'age', 'address', 'famsize', 'Pstatus', 'Medu', 'Fedu', 'Mjob', 'Fjob', 'reason', 'nursery', 'internet']\n",
    "    return pd.merge(left=df1, right=df2, how=how, on=merge_on)\n",
    "    pass"
   ],
   "metadata": {
    "collapsed": false,
    "ExecuteTime": {
     "start_time": "2023-04-30T15:10:26.716157Z",
     "end_time": "2023-04-30T15:10:26.718966Z"
    }
   }
  },
  {
   "cell_type": "markdown",
   "source": [
    "#### Testlauf\n",
    "\n",
    "Testen wir unsere neue Operation. Dazu laden wir die beiden CSV-Dateien in zwei DataFrames und rufen anschließend die Merge Operation auf. Die Rückgabe in die CSV Datei beweist, dass hier alles richtig geschehen ist und somit sind wir auch hier fertig."
   ],
   "metadata": {
    "collapsed": false
   }
  },
  {
   "cell_type": "code",
   "execution_count": 6,
   "outputs": [
    {
     "name": "stdout",
     "output_type": "stream",
     "text": [
      "Left-Merge results in 407 cell(s)\n",
      "Right-Merge results in 657 cell(s)\n",
      "Inner-Merge results in 382 cell(s)\n"
     ]
    }
   ],
   "source": [
    "# Create DataFrames for testing\n",
    "df1 = read_csv_data(file_name=os.path.join(CSV_DIR, 'student-mat.csv'))\n",
    "df2 = read_csv_data(file_name=os.path.join(CSV_DIR, 'student-por.csv'))\n",
    "\n",
    "# Merge DataFrames with different Literals\n",
    "df_merged_left = join_df(df1=df1, df2=df2, how='left')\n",
    "cells_count_left = len(df_merged_left.index)\n",
    "\n",
    "df_merged_right = join_df(df1=df1, df2=df2, how='right')\n",
    "cells_count_right = len(df_merged_right.index)\n",
    "\n",
    "df_merged_inner = join_df(df1=df1, df2=df2, how='inner')\n",
    "cells_count_inner = len(df_merged_inner.index)\n",
    "\n",
    "# Output the length of the new lists to console\n",
    "print(f'Left-Merge results in {cells_count_left} cell(s)')\n",
    "print(f'Right-Merge results in {cells_count_right} cell(s)')\n",
    "print(f'Inner-Merge results in {cells_count_inner} cell(s)')\n",
    "\n",
    "# Write CSV data to file\n",
    "write_csv_data(df=df_merged_left, file_name=os.path.join(CSV_DIR, 'student-merged-left.csv'))\n",
    "write_csv_data(df=df_merged_right, file_name=os.path.join(CSV_DIR, 'student-merged-right.csv'))\n",
    "write_csv_data(df=df_merged_inner, file_name=os.path.join(CSV_DIR, 'student-merged-inner.csv'))"
   ],
   "metadata": {
    "collapsed": false,
    "ExecuteTime": {
     "start_time": "2023-04-28T12:05:50.807381Z",
     "end_time": "2023-04-28T12:05:50.865537Z"
    }
   }
  },
  {
   "cell_type": "markdown",
   "source": [
    "#### BUT WAIT!\n",
    "\n",
    "That's not everything! Wir müssen am besten noch die alten Sachen mit Pandas umsetzen! Es ist Sonntag, ich genieße ein [Havana Club Verde & Tonic](https://havana-club.com/de-de/rum/havana-club-verde-tonic-dose/), also ist meine Laune gut genug, um das vergangene Aufgabenblatt Revue passieren zu lassen.\n",
    "\n",
    "Ich habe nämlich die Aufgabenstellung falsch verstanden; ich dachte, dass die Aufgabe den Maximalwert, sowie die Durchschnittsnote jedes einzelnen Studenten meinte, dabei war eigentlich der allgemeine Durchschnitt, sowie die beste Note aller Studenten gemeint."
   ],
   "metadata": {
    "collapsed": false
   }
  },
  {
   "cell_type": "code",
   "execution_count": 7,
   "outputs": [],
   "source": [
    "def analyze_student_results(df: pd.DataFrame) -> tuple[pd.DataFrame, dict]:\n",
    "    dict_analysis = []\n",
    "    g_columns = [\"G1\", \"G2\", \"G3\"]\n",
    "\n",
    "    for grade in g_columns:\n",
    "        dict_analysis.append([grade, round(np.mean(df[grade]), 2), np.max(df[grade])])\n",
    "\n",
    "    df_analysis = pd.DataFrame(dict_analysis, columns=['Grade', 'Mean', 'Max'])\n",
    "    return df, df_analysis"
   ],
   "metadata": {
    "collapsed": false,
    "ExecuteTime": {
     "start_time": "2023-04-30T15:39:06.828423Z",
     "end_time": "2023-04-30T15:39:06.844182Z"
    }
   }
  },
  {
   "cell_type": "code",
   "execution_count": 8,
   "outputs": [
    {
     "data": {
      "text/plain": "(    school sex  age address famsize Pstatus  Medu  Fedu      Mjob      Fjob   \n 0       GP   F   18       U     GT3       A     4     4   at_home   teacher  \\\n 1       GP   F   17       U     GT3       T     1     1   at_home     other   \n 2       GP   F   15       U     LE3       T     1     1   at_home     other   \n 3       GP   F   15       U     GT3       T     4     2    health  services   \n 4       GP   F   16       U     GT3       T     3     3     other     other   \n ..     ...  ..  ...     ...     ...     ...   ...   ...       ...       ...   \n 390     MS   M   20       U     LE3       A     2     2  services  services   \n 391     MS   M   17       U     LE3       T     3     1  services  services   \n 392     MS   M   21       R     GT3       T     1     1     other     other   \n 393     MS   M   18       R     LE3       T     3     2  services     other   \n 394     MS   M   19       U     LE3       T     1     1     other   at_home   \n \n      ... famrel freetime  goout  Dalc  Walc health absences  G1  G2  G3  \n 0    ...      4        3      4     1     1      3        6   5   6   6  \n 1    ...      5        3      3     1     1      3        4   5   5   6  \n 2    ...      4        3      2     2     3      3       10   7   8  10  \n 3    ...      3        2      2     1     1      5        2  15  14  15  \n 4    ...      4        3      2     1     2      5        4   6  10  10  \n ..   ...    ...      ...    ...   ...   ...    ...      ...  ..  ..  ..  \n 390  ...      5        5      4     4     5      4       11   9   9   9  \n 391  ...      2        4      5     3     4      2        3  14  16  16  \n 392  ...      5        5      3     3     3      3        3  10   8   7  \n 393  ...      4        4      1     3     4      5        0  11  12  10  \n 394  ...      3        2      3     3     3      5        5   8   9   9  \n \n [395 rows x 33 columns],\n   Grade   Mean  Max\n 0    G1  10.91   19\n 1    G2  10.71   19\n 2    G3  10.42   20)"
     },
     "execution_count": 8,
     "metadata": {},
     "output_type": "execute_result"
    }
   ],
   "source": [
    "# Create DataFrames for testing\n",
    "df1 = read_csv_data(file_name=os.path.join(CSV_DIR, 'student-mat.csv'))\n",
    "analyze_student_results(df=df1)"
   ],
   "metadata": {
    "collapsed": false,
    "ExecuteTime": {
     "start_time": "2023-04-30T15:39:07.277176Z",
     "end_time": "2023-04-30T15:39:07.318670Z"
    }
   }
  }
 ],
 "metadata": {
  "kernelspec": {
   "display_name": "Python 3",
   "language": "python",
   "name": "python3"
  },
  "language_info": {
   "codemirror_mode": {
    "name": "ipython",
    "version": 2
   },
   "file_extension": ".py",
   "mimetype": "text/x-python",
   "name": "python",
   "nbconvert_exporter": "python",
   "pygments_lexer": "ipython2",
   "version": "2.7.6"
  }
 },
 "nbformat": 4,
 "nbformat_minor": 0
}
