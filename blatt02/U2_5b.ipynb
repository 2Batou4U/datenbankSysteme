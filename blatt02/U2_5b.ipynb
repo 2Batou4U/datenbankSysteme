{
 "cells": [
  {
   "cell_type": "markdown",
   "source": [
    "## Blatt 2\n",
    "\n",
    "#### Einleitung / Erklärung\n",
    "\n",
    "Hier werden wir mittels Pandas die CSV-Dateien mergen. Wir benutzen nun Pandas, da die Aufgabenstellungen so langsam zu viel Arbeit werden und Atzmüller setzt sowieso voraus, dass man mit Pandas arbeitet, auch ich füge mich nun dieser Anweisung.\n",
    "\n",
    "Imports:\n",
    " - Pandas, um eine möglichst allumfassende Lösung zum Verarbeiten von Datensätzen zu haben.\n",
    " - OS, um Pfade zielsicher erstellen zu können."
   ],
   "metadata": {
    "collapsed": false
   }
  },
  {
   "cell_type": "code",
   "execution_count": 1,
   "outputs": [],
   "source": [
    "import pandas as pd\n",
    "import os"
   ],
   "metadata": {
    "collapsed": false,
    "ExecuteTime": {
     "start_time": "2023-04-27T22:55:26.706105Z",
     "end_time": "2023-04-27T22:55:27.202045Z"
    }
   }
  },
  {
   "cell_type": "markdown",
   "source": [
    "Erstellen wir nun unsere Pfade für das Arbeitsverzeichnis, sowie den Ordner mit den CSV-Dateien."
   ],
   "metadata": {
    "collapsed": false
   }
  },
  {
   "cell_type": "code",
   "execution_count": 2,
   "outputs": [],
   "source": [
    "BASE_DIR: str = os.getcwd()\n",
    "CSV_DIR: str = os.path.join(BASE_DIR, 'csv')"
   ],
   "metadata": {
    "collapsed": false,
    "ExecuteTime": {
     "start_time": "2023-04-27T22:55:27.205414Z",
     "end_time": "2023-04-27T22:55:27.210003Z"
    }
   }
  },
  {
   "cell_type": "markdown",
   "source": [
    "Jetzt müssen wir noch die Operation zum Lesen und zum Schreiben aus und in die CSV überarbeiten.\n",
    "\n",
    "Die Operation '**read_csv_data**' bekommt einen Dateipfad und versucht diesen einzulesen.\n",
    "\n",
    "Die Operation '**write_csv_data**' bekommt einen Dateipfad, sowie einen DataFrame, den es in die Datei schreiben soll.\n",
    "\n",
    "So einfach kann es gehen, wenn man nicht so stur ist wie ich...."
   ],
   "metadata": {
    "collapsed": false
   }
  },
  {
   "cell_type": "code",
   "execution_count": 3,
   "outputs": [],
   "source": [
    "def read_csv_data(file_name: str) -> list:\n",
    "    return pd.read_csv(filepath_or_buffer=file_name, sep=';', quotechar='\"')"
   ],
   "metadata": {
    "collapsed": false,
    "ExecuteTime": {
     "start_time": "2023-04-27T22:55:27.212196Z",
     "end_time": "2023-04-27T22:55:27.256926Z"
    }
   }
  },
  {
   "cell_type": "code",
   "execution_count": 4,
   "outputs": [],
   "source": [
    "def write_csv_data(file_name: str, df: pd.DataFrame) -> None:\n",
    "    return df.to_csv(file_name)"
   ],
   "metadata": {
    "collapsed": false,
    "ExecuteTime": {
     "start_time": "2023-04-27T22:55:27.256926Z",
     "end_time": "2023-04-27T22:55:27.273928Z"
    }
   }
  },
  {
   "cell_type": "markdown",
   "source": [
    "#### JOIN\n",
    "\n",
    "Schreiben wir nun unsere Join-Anweisung, wir müssen über mehrere Spalten joinen, diese sind in der Liste '**merge_on**' hinterlegt und kommen aus der Aufgabenstellung.\n",
    "\n",
    "Wir mergen die zwei Dataframes df1 und df2 nach links mit den Attributen aus der Liste. Wir könnten statt den Parametern '**left_on**' und '**right_on**' einfach '**on**' benutzen, aber so habe ich es nun-mal gemacht."
   ],
   "metadata": {
    "collapsed": false
   }
  },
  {
   "cell_type": "code",
   "execution_count": 5,
   "outputs": [],
   "source": [
    "def join_df(df1: pd.DataFrame, df2: pd.DataFrame, how):\n",
    "    merge_on = ['school', 'sex', 'age', 'address', 'famsize', 'Pstatus', 'Medu', 'Fedu', 'Mjob', 'Fjob', 'reason', 'nursery', 'internet']\n",
    "    return pd.merge(left=df1, right=df2, how=how, left_on=merge_on, right_on=merge_on)\n",
    "    pass"
   ],
   "metadata": {
    "collapsed": false,
    "ExecuteTime": {
     "start_time": "2023-04-27T22:55:27.260837Z",
     "end_time": "2023-04-27T22:55:27.273928Z"
    }
   }
  },
  {
   "cell_type": "markdown",
   "source": [
    "#### Testlauf\n",
    "\n",
    "Testen wir unsere neue Operation. Dazu laden wir die beiden CSV-Dateien in zwei DataFrames und rufen anschließend die Merge Operation auf. Die Rückgabe in die CSV Datei beweist, dass hier alles richtig geschehen ist und somit sind wir auch hier fertig."
   ],
   "metadata": {
    "collapsed": false
   }
  },
  {
   "cell_type": "code",
   "execution_count": 6,
   "outputs": [
    {
     "name": "stdout",
     "output_type": "stream",
     "text": [
      "Left-Merge results in 407 cell(s)\n",
      "Right-Merge results in 407 cell(s)\n"
     ]
    }
   ],
   "source": [
    "df1 = read_csv_data(file_name=os.path.join(CSV_DIR, 'student-mat.csv'))\n",
    "df2 = read_csv_data(file_name=os.path.join(CSV_DIR, 'student-por.csv'))\n",
    "\n",
    "df_merged_left = join_df(df1=df1, df2=df2, how='left')\n",
    "cells_count_left = len(df_merged_left.index)\n",
    "\n",
    "df_merged_right = join_df(df1=df1, df2=df2, how='right')\n",
    "cells_count_right = len(df_merged_left.index)\n",
    "\n",
    "print(f'Left-Merge results in {cells_count_left} cell(s)')\n",
    "print(f'Right-Merge results in {cells_count_right} cell(s)')\n",
    "\n",
    "# write_csv_data(df=df_merged_left, file_name=os.path.join(CSV_DIR, f'student-merged-{cells_count_left}.csv'))"
   ],
   "metadata": {
    "collapsed": false,
    "ExecuteTime": {
     "start_time": "2023-04-27T22:55:27.273928Z",
     "end_time": "2023-04-27T22:55:27.335489Z"
    }
   }
  },
  {
   "cell_type": "markdown",
   "source": [
    "Created by [Borat Sagdiyev](https://de.wikipedia.org/wiki/Sacha_Baron_Cohen#Borat)\n",
    "\n",
    "\n",
    "![Borat](https://media.tenor.com/HEMQmYHww6MAAAAd/borat-borat-very-nice.gif)"
   ],
   "metadata": {
    "collapsed": false
   }
  }
 ],
 "metadata": {
  "kernelspec": {
   "display_name": "Python 3",
   "language": "python",
   "name": "python3"
  },
  "language_info": {
   "codemirror_mode": {
    "name": "ipython",
    "version": 2
   },
   "file_extension": ".py",
   "mimetype": "text/x-python",
   "name": "python",
   "nbconvert_exporter": "python",
   "pygments_lexer": "ipython2",
   "version": "2.7.6"
  }
 },
 "nbformat": 4,
 "nbformat_minor": 0
}
