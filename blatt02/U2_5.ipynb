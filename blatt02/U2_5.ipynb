{
 "cells": [
  {
   "cell_type": "markdown",
   "source": [
    "## Übungsblatt 2\n",
    "\n",
    "##### Einleitung + Packages\n",
    "Okay Leute, wir müssen zwei Sachen zunächst implementieren, zunächst eine Operation, die nur Schüler ausgibt, bei denen die Noten über einem bestimmten Pegel lagen, die andere ist quasi ein Select-Befehl, aber als Code anstatt einer Anweisung.\n",
    "\n",
    "Kopieren wir zunächst Sachen aus Blatt 1, die sich nicht ändern werden, wie etwa das Lesen oder Schreiben aus / in die Datei. Die Packages bleiben die gleichen, also schaut für Erklärung beim Package '**blatt01**' vorbei"
   ],
   "metadata": {
    "collapsed": false
   }
  },
  {
   "cell_type": "code",
   "execution_count": 1,
   "outputs": [],
   "source": [
    "import os\n",
    "import csv\n",
    "import numpy as np\n",
    "import re\n",
    "\n",
    "BASE_DIR: str = os.getcwd()\n",
    "CSV_DIR: str = os.path.join(BASE_DIR, 'csv')\n",
    "\n",
    "\n",
    "def read_csv_data(file_name: str) -> list:\n",
    "    csv_data: list = []\n",
    "\n",
    "    if not os.path.exists(CSV_DIR):\n",
    "        os.makedirs(CSV_DIR)\n",
    "\n",
    "    if file_name.endswith('.csv') and os.path.exists(file_name):\n",
    "        with open(file=file_name, mode='r') as csv_file:\n",
    "            csv_in = csv.reader(csv_file, quotechar='\"', delimiter=\";\")\n",
    "            for row in csv_in:\n",
    "                csv_data.append(row)\n",
    "    else:\n",
    "        raise Exception(\"Path given doesn't point to a .csv file\")\n",
    "\n",
    "    return csv_data\n",
    "\n",
    "\n",
    "def write_csv_data(csv_data: list, file_name: str) -> None:\n",
    "    if os.path.exists(file_name):\n",
    "        os.remove(file_name)\n",
    "\n",
    "    with open(file=file_name, mode='w', newline='') as csv_file:\n",
    "        csv_writer = csv.writer(csv_file, quotechar='\"', delimiter=\";\")\n",
    "        for row in csv_data:\n",
    "            csv_writer.writerow(row)"
   ],
   "metadata": {
    "collapsed": false,
    "ExecuteTime": {
     "start_time": "2023-04-27T14:54:54.074641Z",
     "end_time": "2023-04-27T14:54:54.214352Z"
    }
   }
  },
  {
   "cell_type": "markdown",
   "source": [
    "#### ANALYZE\n",
    "Fangen wir zuerst mit der Implementierung des Analyze-Befehls. Wir brauchen eine zusätzliche Operation, die eine Liste als Parameter, sowie einen Pegel bekommt und daraus bestimmt, ob eine Zeile gültig ist und in die finale Datei übernommen werden soll oder nicht.\n",
    "\n",
    "- Row: List\n",
    "    - Eine einzelne Zeile aus der CSV-Datei.\n",
    "- G_Columns: List\n",
    "    - Enthält die Indexe der Notenspalten.\n",
    "- Threshold: Integer\n",
    "    - Wird verwendet, um die Noten rauszufiltern, die unter dem Pegel liegen.\n",
    "\n",
    "Wir holen uns die einzelnen Indexe der Noten aus G_Column und überprüfen, ob die Zeile an diesen Stellen gültige Werte enthält. Die Werte aus der Zeile müssen mit einem Typecast versehen werden, da sie sonst Strings sind. Standardmäßig ist Threshold = **0**."
   ],
   "metadata": {
    "collapsed": false
   }
  },
  {
   "cell_type": "code",
   "execution_count": 2,
   "outputs": [],
   "source": [
    "def analyze_threshold(row: list, g_columns: list, threshold: int = 0) -> bool:\n",
    "\n",
    "    for column_index in g_columns:\n",
    "\n",
    "        if int(row[column_index]) < threshold:\n",
    "            return False\n",
    "\n",
    "    return True"
   ],
   "metadata": {
    "collapsed": false,
    "ExecuteTime": {
     "start_time": "2023-04-27T14:54:54.223024Z",
     "end_time": "2023-04-27T14:54:54.229239Z"
    }
   }
  },
  {
   "cell_type": "markdown",
   "source": [
    "Die Operation ist somit fertig, machen wir zunächst mit der Projektion weiter."
   ],
   "metadata": {
    "collapsed": false
   }
  },
  {
   "cell_type": "markdown",
   "source": [
    "#### PROJECTION\n",
    "\n",
    "Mit der Projection wollen wir uns bestimmte Zeilen ausgeben lassen, d.h. zum Beispiel nur die Noten der Schüler oder die Schulen auf die sie gehen.\n",
    "\n",
    "- Row: List\n",
    "    - Eine einzelne Zeile aus der CSV-Datei.\n",
    "- S_Columns: List\n",
    "    - Enthält String mit den Namen der Spalten, die rausgefiltert werden sollen.\n",
    "- Column_Names: Dictionary\n",
    "    - Hält die Spaltennamen, sowie ihre Indexe fest in der Form: {Spaltenname: Index}\n",
    "\n",
    "Der Output muss in einer neuen Variable stehen. Wir überprüfen jeden Key aus dem Dictionary '**column_names**' auf Übereinstimmung mit den Strings, die in '**s_columns**' stehen. Sollte dies der Fall sein speichern wir den Wert von '**row**' mithilfe des Index aus dem Dictionary. Die Variable '**row_out**' hält die neue Liste und wird zurückgegeben, falls sie tatsächlich Werte enthält, sonst wird eine Exception geworfen."
   ],
   "metadata": {
    "collapsed": false
   }
  },
  {
   "cell_type": "code",
   "execution_count": 3,
   "outputs": [],
   "source": [
    "def analyze_select(row: list, s_columns: list, column_names: dict) -> list:\n",
    "    row_out: list = []\n",
    "    for column_key in column_names:\n",
    "        if column_key in s_columns:\n",
    "            row_out.append(row[column_names[column_key]])\n",
    "\n",
    "    if row_out:\n",
    "        return row_out\n",
    "    else:\n",
    "        raise DTBException(\"Die Spaltensuche ergab keine Treffer, korrigieren Sie Ihre Angaben!\")"
   ],
   "metadata": {
    "collapsed": false,
    "ExecuteTime": {
     "start_time": "2023-04-27T14:54:54.234292Z",
     "end_time": "2023-04-27T14:54:54.241463Z"
    }
   }
  },
  {
   "cell_type": "markdown",
   "source": [
    "#### Implementieren\n",
    "\n",
    "Nun implementieren wir die Operationen in unsere Analyse-Operation.\n",
    "\n",
    "Zuerst machen wir eine eigene Klasse, die von Exception erbt. Sie soll es erleichtern Fehler aufzufangen."
   ],
   "metadata": {
    "collapsed": false
   }
  },
  {
   "cell_type": "code",
   "execution_count": 4,
   "outputs": [],
   "source": [
    "class DTBException(Exception):\n",
    "    pass"
   ],
   "metadata": {
    "collapsed": false,
    "ExecuteTime": {
     "start_time": "2023-04-27T14:54:54.246269Z",
     "end_time": "2023-04-27T14:54:54.248663Z"
    }
   }
  },
  {
   "cell_type": "markdown",
   "source": [
    "Nun müssen in den Parametern der neuen Operation die nötigen Einträge hinzufügen. Diese wurden bereits erklärt, deswegen hier ein Copy-Paste:\n",
    "\n",
    "- CSV-Data: List\n",
    "    - Besteht aus weiteren Listen (Zeilen), die einzelne Werte (Zellen) halten.\n",
    "- Threshold: Integer\n",
    "    - Wird verwendet, um die Noten rauszufiltern, die unter dem Pegel liegen.\n",
    "- S_Columns: List\n",
    "    - Enthält String mit den Namen der Spalten, die rausgefiltert werden sollen.\n",
    "\n",
    "Als Nächstes führen wir die Variable '**column_names**' ein. Die Unterschiede zu '**g_columns**' sind die Speicherung aller Spaltennamen, sowie die Art auf die die Werte gespeichert werden. Trotz der Tatsache, dass '**g_columns**' eine Teilmenge von '**column_names**' ist behalten wir beide, da wir sonst unnötige Rechenoperationen durchführen müssen, die die Laufzeit erhöhen.\n",
    "\n",
    "Beim ersten Durchlauf der For-Schleife werden die Spaltennamen in '**column_names**' gespeichert und die Indexe der Notenspalten werden in '**g_columns**' gespeichert. Der RegEx hat sich nicht geändert.\n",
    "\n",
    "Bei den sonstigen Durchläufen werden zunächst die Noten überprüft, sollten diese nicht stimmen müssen wir uns keine Mühe mit den Medians und Maximalwerten machen, wir können die Zeile einfach überspringen.\n",
    "\n",
    "Besteht eine Zeile die Threshold-Prüfung so kann man die ganzen Durchschnitte, etc. berechnen. Nachdem die neue Zeile erstellt ist schneiden wir uns die nötigen Spalten raus, indem wir die '**analyze_select**' Operation aufrufen.\n",
    "\n",
    "Zum Ende wird die fertige CSV ausgegeben."
   ],
   "metadata": {
    "collapsed": false
   }
  },
  {
   "cell_type": "code",
   "execution_count": 5,
   "outputs": [],
   "source": [
    "def analyze_student_results(csv_data: list, s_columns: list = None, threshold: int = 0) -> list:\n",
    "    csv_processed: list = []\n",
    "    g_columns: list = []\n",
    "\n",
    "    column_names: dict = {}\n",
    "\n",
    "    for idx, row in enumerate(csv_data):\n",
    "\n",
    "        if idx == 0:\n",
    "            for g_idx, cell in enumerate(row):\n",
    "                column_names[cell] = g_idx\n",
    "\n",
    "                if re.match(r\"^G[0-9]$\", cell):\n",
    "                    g_columns.append(g_idx)\n",
    "            next_row = row + ['G_MAX', 'G_MEAN']\n",
    "\n",
    "        else:\n",
    "            if analyze_threshold(row=row, g_columns=g_columns, threshold=threshold):\n",
    "\n",
    "                grades: list = []\n",
    "                for g_column in g_columns:\n",
    "                    grades.append(int(row[g_column]))\n",
    "                g_max: int = np.max(grades)\n",
    "                g_mean: float = round(np.average(grades), 2)\n",
    "\n",
    "                next_row: list = row + [str(g_max), str(g_mean)]\n",
    "            else:\n",
    "                continue\n",
    "\n",
    "        csv_processed.append(analyze_select(row=next_row, column_names=column_names, s_columns=s_columns))\n",
    "\n",
    "    return csv_processed"
   ],
   "metadata": {
    "collapsed": false,
    "ExecuteTime": {
     "start_time": "2023-04-27T14:54:54.257399Z",
     "end_time": "2023-04-27T14:54:54.276966Z"
    }
   }
  },
  {
   "cell_type": "markdown",
   "source": [
    "#### Testlauf\n",
    "\n",
    "Testen wir den Scheiß. Wir laden die Datei '**student-mat.csv**' und erstellen eine kleine Select-Anweisung, die uns die '**famsize**', was auch immer das sein soll, sowie das Geschlecht ausgibt.\n",
    "\n",
    "Wir lesen die Datei, verarbeiten sie und geben sie aus. Es funktioniert alles.\n",
    "\n",
    "![Nice](https://media.tenor.com/NQ0nRbi_REIAAAAM/awesome-computer-kid-computer.gif)"
   ],
   "metadata": {
    "collapsed": false
   }
  },
  {
   "cell_type": "code",
   "execution_count": 6,
   "outputs": [],
   "source": [
    "FILE_IN = os.path.join(CSV_DIR, 'student-mat.csv')\n",
    "STUDENT_AMOUNT = sum(1 for line in open(FILE_IN)) - 1\n",
    "FILE_OUT = os.path.join(CSV_DIR, f'student-mat-out-total-{STUDENT_AMOUNT}.csv')\n",
    "\n",
    "S_COLUMNS = ['famsize', 'sex']\n",
    "\n",
    "csv_data = read_csv_data(file_name=FILE_IN)\n",
    "csv_data_processed = analyze_student_results(csv_data=csv_data, s_columns=S_COLUMNS, threshold=7)\n",
    "write_csv_data(csv_data=csv_data_processed, file_name=FILE_OUT)"
   ],
   "metadata": {
    "collapsed": false,
    "ExecuteTime": {
     "start_time": "2023-04-27T14:54:54.275529Z",
     "end_time": "2023-04-27T14:54:54.305864Z"
    }
   }
  },
  {
   "cell_type": "markdown",
   "source": [
    "Created by [Arnold Schwarzenegger](https://www.instagram.com/schwarzenegger/)"
   ],
   "metadata": {
    "collapsed": false
   }
  }
 ],
 "metadata": {
  "kernelspec": {
   "display_name": "Python 3",
   "language": "python",
   "name": "python3"
  },
  "language_info": {
   "codemirror_mode": {
    "name": "ipython",
    "version": 2
   },
   "file_extension": ".py",
   "mimetype": "text/x-python",
   "name": "python",
   "nbconvert_exporter": "python",
   "pygments_lexer": "ipython2",
   "version": "2.7.6"
  }
 },
 "nbformat": 4,
 "nbformat_minor": 0
}
