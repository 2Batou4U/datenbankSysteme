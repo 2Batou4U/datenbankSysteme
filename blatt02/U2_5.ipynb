{
 "cells": [
  {
   "cell_type": "markdown",
   "source": [
    "## Übungsblatt 2\n",
    "\n",
    "##### Einleitung + Packages\n",
    "Okay Leute, ich habe keine Ahnung, ob ich die Aufgabenstellung richtig verstehe, aber *falls* ich das tue, dann brauchen wir eine Operation, die eine Zeile aus der CSV übergeben bekommt und dann überprüft, ob alle Noten über einem gewissen Pegel liegen.\n",
    "\n",
    "Kopieren wir Sachen aus Blatt 1, die sich nicht ändern werden."
   ],
   "metadata": {
    "collapsed": false
   }
  },
  {
   "cell_type": "code",
   "execution_count": 1,
   "outputs": [],
   "source": [
    "import os\n",
    "import csv\n",
    "import numpy as np\n",
    "import re\n",
    "\n",
    "BASE_DIR: str = os.getcwd()\n",
    "CSV_DIR: str = os.path.join(BASE_DIR, 'csv')\n",
    "\n",
    "\n",
    "def read_csv_data(file_name: str) -> list:\n",
    "    csv_data: list = []\n",
    "\n",
    "    if not os.path.exists(CSV_DIR):\n",
    "        os.makedirs(CSV_DIR)\n",
    "\n",
    "    if file_name.endswith('.csv') and os.path.exists(file_name):\n",
    "        with open(file=file_name, mode='r') as csv_file:\n",
    "            csv_in = csv.reader(csv_file, quotechar='\"', delimiter=\";\")\n",
    "            for row in csv_in:\n",
    "                csv_data.append(row)\n",
    "    else:\n",
    "        raise Exception(\"Path given doesn't point to a .csv file\")\n",
    "\n",
    "    return csv_data\n",
    "\n",
    "\n",
    "def write_csv_data(csv_data: list, file_name: str) -> None:\n",
    "    if os.path.exists(file_name):\n",
    "        os.remove(file_name)\n",
    "\n",
    "    with open(file=file_name, mode='w', newline='') as csv_file:\n",
    "        csv_writer = csv.writer(csv_file, quotechar='\"', delimiter=\";\")\n",
    "        for row in csv_data:\n",
    "            csv_writer.writerow(row)"
   ],
   "metadata": {
    "collapsed": false,
    "ExecuteTime": {
     "start_time": "2023-04-27T13:38:24.578081Z",
     "end_time": "2023-04-27T13:38:24.654314Z"
    }
   }
  },
  {
   "cell_type": "markdown",
   "source": [
    "#### ANALYZE\n",
    "Fangen wir zuerst mit der Implementierung des Analyze-Befehls. Wir brauchen eine zusätzliche Operation, die eine Liste als Parameter, sowie einen Pegel bekommt und daraus bestimmt, ob eine Zeile gültig ist und in die finale Datei übernommen werden soll oder nicht.\n",
    "\n",
    "- Threshold ist ein Integer, den wir nutzen, um die Entscheidung treffen zu können wann eine Zeile ungültig ist, standardmäßig bekommt er den Wert 0.\n",
    "\n",
    "- Row ist die Liste, die wir übergeben und die Zellen enthält.\n",
    "\n",
    "- G_Columns ist ebenfalls eine Liste, die wir im letzten Aufgabenblatt implementiert haben, damit wir auf mögliche Änderungen in den Dateien reagieren können.\n",
    "\n",
    "Die Logik ist ganz simpel: Wir iterieren durch die Zellen mit Noten und überprüfen, ob alle auch über dem Pegel liegen. Sollten sie diesen tun, dann geben wir am Ende, nachdem wir aus der For-Schleife rauskommen True zurück, sonst False."
   ],
   "metadata": {
    "collapsed": false
   }
  },
  {
   "cell_type": "code",
   "execution_count": 2,
   "outputs": [],
   "source": [
    "def analyze_threshold(row_in: list, g_columns: list, threshold: int = 0) -> bool:\n",
    "    for column_index in g_columns:\n",
    "        if int(row_in[column_index]) < threshold:\n",
    "            return False\n",
    "\n",
    "    return True"
   ],
   "metadata": {
    "collapsed": false,
    "ExecuteTime": {
     "start_time": "2023-04-27T13:38:24.654314Z",
     "end_time": "2023-04-27T13:38:24.660999Z"
    }
   }
  },
  {
   "cell_type": "markdown",
   "source": [
    "Jetzt müssen wir noch die Operation an die nötige Stelle einfügen, zuerst machen wir aber die restlichen Operationen."
   ],
   "metadata": {
    "collapsed": false
   }
  },
  {
   "cell_type": "markdown",
   "source": [
    "#### PROJECTION\n",
    "\n",
    "Mit der Projection wollen wir uns bestimmte Zeilen ausgeben lassen, d.h. zum Beispiel nur die Noten der Schüler oder die Schulen auf die sie gehen.\n",
    "\n",
    "- S_Columns sind die selektierten Spalten, die ausgegeben werden sollen\n",
    "- Column_Names sind die Spaltennamen\n",
    "- Row ist nach wie vor unsere Zeile.\n",
    "\n",
    "Ebenfalls eine sehr simple Operation, wir haben unsere Zeile, wir überprüfen für jeden Spaltennamen, ob er mit den Select-Spalten übereinstimmt und fügen die Zeile mithilfe des Index aus dem Dictionary zu der Output Reihe hinzu."
   ],
   "metadata": {
    "collapsed": false
   }
  },
  {
   "cell_type": "code",
   "execution_count": 3,
   "outputs": [],
   "source": [
    "def analyze_select(row_in: list, s_columns: list, column_names: dict) -> list:\n",
    "    row_out: list = []\n",
    "    for column_key in column_names:\n",
    "        if column_key in s_columns:\n",
    "            row_out.append(row_in[column_names[column_key]])\n",
    "\n",
    "    if row_out:\n",
    "        return row_out\n",
    "    else:\n",
    "        raise DTBException(\"Die Spaltensuche ergab keine Treffer, korrigieren Sie Ihre Angaben!\")"
   ],
   "metadata": {
    "collapsed": false,
    "ExecuteTime": {
     "start_time": "2023-04-27T13:38:24.664935Z",
     "end_time": "2023-04-27T13:38:24.667025Z"
    }
   }
  },
  {
   "cell_type": "markdown",
   "source": [
    "#### Implementieren\n",
    "\n",
    "Nun implementieren wir die Operationen in unsere Hauptoperation.\n",
    "\n",
    "Zuerst machen wir eine eigene Klasse, die von Exception erbt. Sie soll es erleichtern Fehler aufzufangen.\n",
    "\n",
    "Außer g_columns, die die Indexe speichern an denen Noten eingetragen stehen, speichern wir nun ebenfalls alle Spalten in einem Dictionary nach der Form {Spaltenname: Index}. Zunächst überprüfen wir, ob alle Noten über dem Pegel liegen, sonst müssen wir uns nicht Mal die Mühe machen, um den Median, etc. zu berechnen. Danach holen wir uns die Spalten raus, die wir in s_columns ausgewählt haben. Soll es keine Übereinstimmung geben, dann wird eine Exception gefangen."
   ],
   "metadata": {
    "collapsed": false
   }
  },
  {
   "cell_type": "code",
   "execution_count": 4,
   "outputs": [],
   "source": [
    "class DTBException(Exception):\n",
    "    pass"
   ],
   "metadata": {
    "collapsed": false,
    "ExecuteTime": {
     "start_time": "2023-04-27T13:38:24.670242Z",
     "end_time": "2023-04-27T13:38:24.671761Z"
    }
   }
  },
  {
   "cell_type": "code",
   "execution_count": 5,
   "outputs": [],
   "source": [
    "def analyze_student_results(csv_data: list, s_columns: list = None, threshold: int = 0) -> list:\n",
    "    csv_processed: list = []\n",
    "    g_columns: list = []\n",
    "    column_names: dict = {}\n",
    "\n",
    "    for idx, row in enumerate(csv_data):\n",
    "\n",
    "        if idx == 0:\n",
    "            for g_idx, cell in enumerate(row):\n",
    "                column_names[cell] = g_idx\n",
    "\n",
    "                if re.match(r\"^G[0-9]$\", cell):\n",
    "                    g_columns.append(g_idx)\n",
    "\n",
    "            try:\n",
    "                csv_processed.append(analyze_select(row_in=row + ['G_MAX', 'G_MEAN'], column_names=column_names, s_columns=s_columns))\n",
    "            except DTBException as derr:\n",
    "                print(derr.with_traceback())\n",
    "\n",
    "        else:\n",
    "            if analyze_threshold(row_in=row, g_columns=g_columns, threshold=threshold):\n",
    "                grades: list = []\n",
    "                for g_column in g_columns:\n",
    "                    grades.append(int(row[g_column]))\n",
    "\n",
    "                g_max: int = np.max(grades)\n",
    "                g_mean: float = round(np.average(grades), 2)\n",
    "\n",
    "                select_row: list = row + [str(g_max), str(g_mean)]\n",
    "\n",
    "                try:\n",
    "                    csv_processed.append(analyze_select(row_in=select_row, column_names=column_names, s_columns=s_columns))\n",
    "                except DTBException as derr:\n",
    "                    print(derr.with_traceback())\n",
    "\n",
    "    return csv_processed"
   ],
   "metadata": {
    "collapsed": false,
    "ExecuteTime": {
     "start_time": "2023-04-27T13:38:24.677740Z",
     "end_time": "2023-04-27T13:38:24.702850Z"
    }
   }
  },
  {
   "cell_type": "markdown",
   "source": [
    "#### Testen\n",
    "\n",
    "Testen wir den Scheiß und sehen dass es funktioniert."
   ],
   "metadata": {
    "collapsed": false
   }
  },
  {
   "cell_type": "code",
   "execution_count": 7,
   "outputs": [],
   "source": [
    "file_in = os.path.join(CSV_DIR, 'student-mat.csv')\n",
    "student_amount = sum(1 for line in open(file_in)) - 1\n",
    "s_columns = ['famsize', 'sex']\n",
    "\n",
    "file_out = os.path.join(CSV_DIR, f'student-mat-out-total-{student_amount}.csv')\n",
    "\n",
    "csv_data = read_csv_data(file_name=file_in)\n",
    "csv_data_processed = analyze_student_results(csv_data=csv_data, s_columns=s_columns, threshold=4)\n",
    "write_csv_data(csv_data=csv_data_processed, file_name=file_out)"
   ],
   "metadata": {
    "collapsed": false,
    "ExecuteTime": {
     "start_time": "2023-04-27T13:40:36.730282Z",
     "end_time": "2023-04-27T13:40:36.751149Z"
    }
   }
  },
  {
   "cell_type": "markdown",
   "source": [
    "Created by [Arnold Schwarzenegger](https://www.instagram.com/schwarzenegger/)"
   ],
   "metadata": {
    "collapsed": false
   }
  }
 ],
 "metadata": {
  "kernelspec": {
   "display_name": "Python 3",
   "language": "python",
   "name": "python3"
  },
  "language_info": {
   "codemirror_mode": {
    "name": "ipython",
    "version": 2
   },
   "file_extension": ".py",
   "mimetype": "text/x-python",
   "name": "python",
   "nbconvert_exporter": "python",
   "pygments_lexer": "ipython2",
   "version": "2.7.6"
  }
 },
 "nbformat": 4,
 "nbformat_minor": 0
}
