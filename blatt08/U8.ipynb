{
 "cells": [
  {
   "cell_type": "markdown",
   "source": [
    "## Übungsblatt 8\n",
    "Und da waren's nur noch zwei. Naja, wir starten mit Aufgabe 3 und diesem komischen Package von Leonid."
   ],
   "metadata": {
    "collapsed": false
   }
  },
  {
   "cell_type": "markdown",
   "source": [
    "#### Aufgabe 3\n",
    "\n",
    "Zuerst importieren wir den ganzen Müll aus dem Beispiel."
   ],
   "metadata": {
    "collapsed": false
   }
  },
  {
   "cell_type": "code",
   "execution_count": 12,
   "outputs": [],
   "source": [
    "from rdflib import Graph\n",
    "\n",
    "def get_foaf() -> Graph:\n",
    "    g = Graph()\n",
    "    g.parse(\"https://bigasterisk.com/foaf.rdf\")\n",
    "    return g"
   ],
   "metadata": {
    "collapsed": false,
    "ExecuteTime": {
     "end_time": "2023-06-22T08:35:47.568328300Z",
     "start_time": "2023-06-22T08:35:47.536947600Z"
    }
   }
  },
  {
   "cell_type": "markdown",
   "source": [
    "Wir geben aus welche Personen, welche Personen kennen."
   ],
   "metadata": {
    "collapsed": false
   }
  },
  {
   "cell_type": "code",
   "execution_count": 7,
   "outputs": [
    {
     "name": "stdout",
     "output_type": "stream",
     "text": [
      "Drew Perttula knows David McClosky\n",
      "Drew Perttula knows Kelsi Perttula\n",
      "Drew Perttula knows Nathan Wilson\n",
      "Drew Perttula knows Henry Story\n"
     ]
    }
   ],
   "source": [
    "foaf: Graph = get_foaf()\n",
    "\n",
    "knows_query = \"\"\"\n",
    "SELECT DISTINCT ?aname ?bname\n",
    "WHERE {\n",
    "    ?a foaf:knows ?b .\n",
    "    ?a foaf:name ?aname .\n",
    "    ?b foaf:name ?bname .\n",
    "}\n",
    "\"\"\"\n",
    "\n",
    "qres = foaf.query(knows_query)\n",
    "\n",
    "for row in qres:\n",
    "    print(f\"{row.aname} knows {row.bname}\")"
   ],
   "metadata": {
    "collapsed": false,
    "ExecuteTime": {
     "end_time": "2023-06-22T08:15:01.818176800Z",
     "start_time": "2023-06-22T08:15:00.471876900Z"
    }
   }
  },
  {
   "cell_type": "markdown",
   "source": [
    "Hier geben wir die Projekte aus, an denen Drew Perttula arbeitet."
   ],
   "metadata": {
    "collapsed": false
   }
  },
  {
   "cell_type": "code",
   "execution_count": 18,
   "outputs": [
    {
     "name": "stdout",
     "output_type": "stream",
     "text": [
      "Drew Perttula arbeitet an http://gasuse.bigasterisk.com/.\n",
      "Drew Perttula arbeitet an http://fantasyfamegame.com/.\n"
     ]
    }
   ],
   "source": [
    "project_query = \"\"\"\n",
    "SELECT DISTINCT ?project\n",
    "WHERE {\n",
    "  ?person foaf:currentProject ?project .\n",
    "  ?person foaf:name \"Drew Perttula\" .\n",
    "}\n",
    "\"\"\"\n",
    "\n",
    "qres_project = foaf.query(project_query)\n",
    "\n",
    "for row in qres_project:\n",
    "    print(f\"Drew Perttula arbeitet an {row[0]}.\")"
   ],
   "metadata": {
    "collapsed": false,
    "ExecuteTime": {
     "end_time": "2023-06-22T08:58:43.937066400Z",
     "start_time": "2023-06-22T08:58:43.923645500Z"
    }
   }
  },
  {
   "cell_type": "markdown",
   "source": [
    "Hier geben wir die Projekte aus, an denen Drew Perttula arbeitet und die einen eigenen Knoten in der RDF-Datei haben."
   ],
   "metadata": {
    "collapsed": false
   }
  },
  {
   "cell_type": "code",
   "execution_count": 19,
   "outputs": [
    {
     "name": "stdout",
     "output_type": "stream",
     "text": [
      "Drew Perttula arbeitet an http://fantasyfamegame.com/ und das Projekt hat einen eigenen Eintrag.\n"
     ]
    }
   ],
   "source": [
    "project_node_query = \"\"\"\n",
    "SELECT DISTINCT ?project\n",
    "WHERE {\n",
    "  ?person foaf:currentProject ?project .\n",
    "  ?person foaf:name \"Drew Perttula\" .\n",
    "  ?project ?predicate ?object .\n",
    "}\n",
    "\"\"\"\n",
    "\n",
    "qres_node_project = foaf.query(project_node_query)\n",
    "\n",
    "for row in qres_node_project:\n",
    "    print(f\"Drew Perttula arbeitet an {row[0]} und das Projekt hat einen eigenen Eintrag.\")"
   ],
   "metadata": {
    "collapsed": false,
    "ExecuteTime": {
     "end_time": "2023-06-22T08:59:00.017205300Z",
     "start_time": "2023-06-22T08:58:59.996088500Z"
    }
   }
  }
 ],
 "metadata": {
  "kernelspec": {
   "display_name": "Python 3",
   "language": "python",
   "name": "python3"
  },
  "language_info": {
   "codemirror_mode": {
    "name": "ipython",
    "version": 2
   },
   "file_extension": ".py",
   "mimetype": "text/x-python",
   "name": "python",
   "nbconvert_exporter": "python",
   "pygments_lexer": "ipython2",
   "version": "2.7.6"
  }
 },
 "nbformat": 4,
 "nbformat_minor": 0
}
