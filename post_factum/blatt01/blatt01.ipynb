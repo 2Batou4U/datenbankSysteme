{
 "cells": [
  {
   "cell_type": "markdown",
   "source": [
    "## Übungsblatt 1\n",
    "\n",
    "#### Aufgabe 1:\n",
    "1. Ja, jede Funktion $f: A \\rightarrow B$ kann durch eine binäre Relation aus $R \\subseteq A \\times B$ dargestellt werden. Dies liegt daran, dass eine Funktion eine spezielle Art von Relation ist. Eine Funktion ist eine binäre Relation mit der Eigenschaft, dass jedes Element in $A$ mit genau einem Element in $B$ in Beziehung steht. So kann jede Funktion $f: A \\rightarrow B$ als eine Menge von geordneten Paaren $\\{(a, b) | a \\in A, b \\in B $ und $b = f(a)\\} $ dargestellt werden.\n",
    "\n",
    "2. Nicht jede binäre Relation $R \\subseteq A \\times B$ kann durch eine Funktion $f$ von einer Teilmenge von $A$ nach $B$ dargestellt werden. Eine Funktion hat die spezielle Eigenschaft, dass jedes Element in ihrer Definitionsmenge genau einem Element in ihrer Zielmenge zugeordnet wird. Es ist möglich, dass eine binäre Relation $R \\subseteq A \\times B$ Elemente in $A$ enthält, die mehr als einem Element in $B$ zugeordnet sind oder keinem Element in $B$ zugeordnet sind, was die Umwandlung in eine Funktion verhindert.\n",
    "\n",
    "3. Die Schnittmenge $(R \\cap S)$ und die Vereinigung $(R \\cup S)$ von zwei Relationen, die durch Funktionen darstellbar sind, müssen nicht zwangsläufig durch eine Funktion darstellbar sein. Betrachten wir zuerst die Vereinigung. Wenn $R$ und $S$ durch die Funktionen $f$ und $g$ darstellbar sind, kann die Vereinigung $(R \\cup S)$ durch eine Funktion dargestellt werden, wenn und nur wenn für alle $x$ in der Definitionsmenge von $f$ und $g$ gilt, dass $f(x) = g(x)$. Andernfalls würde ein Element in $A$ mehr als einem Element in $B$ entsprechen, was gegen die Definition einer Funktion verstoßen würde. Betrachten wir nun die Schnittmenge. $(R \\cap S)$ kann durch eine Funktion dargestellt werden, da jedes Element von $A$, das in der Definitionsmenge beider Funktionen liegt, auf dasselbe Element in $B$ abgebildet wird.\n",
    "\n",
    "4. Eine Umkehrfunktion existiert genau dann, wenn die ursprüngliche Funktion injektiv (eineindeutig) und surjektiv (bildet auf alle Elemente der Zielmenge ab) ist, das heißt, wenn sie bijektiv ist. Eine Umkehrrelation existiert immer für eine gegebene Relation, indem einfach die Reihenfolge der Elemente in den geordneten Paaren umgekehrt wird. Das heißt, wenn $R$ eine Relation von $A$ nach $B$ ist, dann ist $R^{(-1)} = \\{(b, a) | (a, b) \\in R$ die Umkehrrelation von $R$.\n",
    "\n",
    "#### Aufgabe 2:\n",
    "Das Drei-Schichten-Modell (auch bekannt als [ANSI/SPARC-Architektur](https://de.wikipedia.org/wiki/ANSI-SPARC-Architektur)) ist ein weit verbreitetes Modell zur Abstraktion von Datenbankschemata. Die drei Ebenen dieses Modells sind:\n",
    "\n",
    "1. **Externe Ebene (oder Anwendersicht)**: Hier werden die individuellen Sichten der Benutzer oder Anwendungen auf die Datenbank dargestellt. Die Sichten sind an die spezifischen Anforderungen der verschiedenen Benutzer angepasst.\n",
    "\n",
    "2. **Konzeptionelle Ebene (oder logische Ebene)**: Diese Ebene stellt das gesamte Informationsmodell der gesamten Datenbank dar, unabhängig von physischen Details oder spezifischen Benutzersichten. Hier wird das Schema der Datenbank definiert, einschließlich der Definition von Tabellen, Beziehungen, Integritätsbedingungen usw.\n",
    "\n",
    "3. **Interne Ebene (oder physische Ebene)**: Auf dieser Ebene wird die physische Organisation und Speicherung der Daten auf der Hardware dargestellt. Hier werden Details wie Dateiformate, Indexstrukturen, Speicherorte, etc. definiert.\n",
    "\n",
    "Das Hauptmotiv für die Einteilung in mehrere Schichten ist die Datenunabhängigkeit.\n",
    "Das Modell ermöglicht Änderungen auf einer Ebene ohne Auswirkungen auf die anderen Ebenen. Dies bedeutet, Anwendungen und Benutzer müssen sich nicht um die physischen Aspekte der Datenhaltung kümmern (physische Datenunabhängigkeit) und Änderungen am logischen Schema der Datenbank (z.B. durch Hinzufügen oder Entfernen von Tabellen oder Beziehungen) haben keine Auswirkungen auf die Anwendersichten (logische Datenunabhängigkeit).\n",
    "\n",
    "Diese Trennung verbessert die Flexibilität und Wartbarkeit der Datenbanksysteme.\n",
    "\n",
    "#### Aufgabe 3:\n",
    "Ein ER-Diagramm (Entity-Relationship-Diagramm) für dieses Szenario könnte wie folgt aussehen:\n",
    "\n",
    "\n",
    "- **Entitäten**: Teacher, Class, Student, Subject. Jede dieser Entitäten kann folgende Attribute haben:\n",
    "    - Teacher: **teacherID**, firstName, lastName\n",
    "    - Class: **classID**, className, classTeacher (Fremdschlüssel, verweist auf einen bestimmten Lehrer)\n",
    "    - Student: **studentID**, firstName, lastName, classID (Fremdschlüssel, verweist auf eine bestimmte Klasse)\n",
    "    - Subject: **subjectID**, subjectName\n",
    "\n",
    "\n",
    "- **Beziehungen**:\n",
    "    - Teacher unterrichtet Class (Beziehung \"teaches\"): Diese Beziehung könnte eine N:M-Beziehung sein, da ein Lehrer mehrere Klassen und eine Klasse von mehreren Lehrern unterrichtet werden kann. Ein Attribut dieser Beziehung könnte Subject sein, das anzeigt, welches Fach der Lehrer in dieser Klasse unterrichtet.\n",
    "    - Class hat einen Class-Teacher (Beziehung \"has\"): Dies ist eine 1:1-Beziehung, da jede Klasse genau einen Klassenlehrer hat und ein Lehrer kann maximal eine Klasse als Klassenlehrer haben.\n",
    "\n",
    "\n",
    "- **Kardinalitäten**:\n",
    "    - Bei der Beziehung \"teaches\" wäre die Kardinalität in der min-max-Notation (Lehrer, Klasse) = (0, N), (0, M) und in der Funktionalitätsnotation wäre sie N:M. Hier bedeutet die min-max-Notation, dass ein Lehrer mindestens 0 und höchstens N Klassen unterrichten kann, und eine Klasse kann von mindestens 0 und höchstens M Lehrern unterrichtet werden. In der Funktionalitätsnotation bedeutet N:M, dass es keine Beschränkungen für die Anzahl der Klassen, die ein Lehrer unterrichten kann, und die Anzahl der Lehrer, die eine Klasse unterrichten können, gibt.\n",
    "    - Bei der Beziehung \"has\" wäre die Kardinalität in der min-max-Notation (Klasse, Lehrer) = (1, 1), (0, 1) und in der Funktionalitätsnotation wäre sie 1:1. Hier bedeutet die min-max-Notation, dass eine Klasse genau einen Klassenlehrer hat und ein Lehrer höchstens eine Klasse als Klassenlehrer haben kann. In der Funktionalitätsnotation bedeutet 1:1, dass jede Klasse genau einen Klassenlehrer hat und ein Lehrer genau eine Klasse als Klassenlehrer haben kann.\n",
    "\n",
    "**Mögliche Probleme/Einschränkungen der jeweiligen Notationen**:\n",
    "- **min-max-Notation**: Diese Notation ist sehr ausdrucksstark und ermöglicht es, den Minimal- und Maximalgrad der Beziehung darzustellen. Allerdings kann sie etwas unübersichtlich werden, wenn es viele Beziehungen gibt. Darüber hinaus kann es schwierig sein, komplexere Beziehungsbedingungen mit dieser Notation auszudrücken.\n",
    "- **Funktionalitätsnotation**: Diese Notation ist einfacher und übersichtlicher als die min-max-Notation, aber sie ist auch weniger ausdrucksstark. Sie kann nur die Gesamtanzahl der Beziehungen zwischen den Entitäten darstellen, aber sie bietet keine Möglichkeit, den Minimalgrad der Beziehung auszudrücken. Darüber hinaus ist sie nicht geeignet, um komplexe Beziehungsbedingungen darzustellen.\n",
    "\n",
    "#### Aufgabe 4:\n",
    "Wir können die folgenden Entitäten und Attribute definieren:\n",
    "\n",
    "- **Entitäten**: FlightPlan, FlightInstance, SeatReservation, Person.\n",
    "    - **FlightPlan**: **planID**, flightNumber, weeklyTime, weekday.\n",
    "    - **FlightInstance**: **instanceID**, date, planID (Fremdschlüssel, verweist auf einen bestimmten FlightPlan).\n",
    "    - **SeatReservation**: **reservationID**, seatNumber, instanceID (Fremdschlüssel, verweist auf eine bestimmte FlightInstance), personID (Fremdschlüssel, verweist auf eine bestimmte Person).\n",
    "    - **Person**: **personID**, name.\n",
    "\n",
    "- **Beziehungen und Kardinalitäten**:\n",
    "    - FlightPlan hat FlightInstances: Diese Beziehung wäre eine 1:N-Beziehung, da ein FlightPlan mehrere FlightInstances hat und eine FlightInstance genau einem FlightPlan zugeordnet ist. Die Kardinalität in der (m,n)-Notation wäre (1,N) für FlightPlan und (1,1) für FlightInstance.\n",
    "    - FlightInstance hat SeatReservations: Diese Beziehung wäre eine 1:N-Beziehung, da eine FlightInstance mehrere SeatReservations haben kann und eine SeatReservation genau einer FlightInstance zugeordnet ist. Da eine Fluginstanz maximal 50 Sitzplatzreservierungen haben kann, wäre die Kardinalität in der (m,n)-Notation (1,50) für FlightInstance und (1,1) für SeatReservation.\n",
    "    - Person bucht SeatReservations: Diese Beziehung wäre eine 1:N-Beziehung, da eine Person mehrere SeatReservations buchen kann und eine SeatReservation genau von einer Person gebucht wird. Die Kardinalität in der (m,n)-Notation wäre (1,N) für Person und (1,1) für SeatReservation.\n",
    "\n",
    "#### Aufgabe 5:\n",
    "Hallo, ein Mensch hier. An folgendem Code musste ich nur Zeile 6 ändern, da die Datei komisch formatiert war. Alles andere hat ChatGPT, ohne die Datei zu kennen, selbst programmiert. Ja, ChatGPT hat gendern gelernt."
   ],
   "metadata": {
    "collapsed": false
   }
  },
  {
   "cell_type": "code",
   "execution_count": 3,
   "outputs": [
    {
     "name": "stdout",
     "output_type": "stream",
     "text": [
      "Anzahl der Teilnehmenden: 395\n",
      "\n",
      "Beste Noten für jede:n Schüler:in:\n",
      "     best_grade\n",
      "0             6\n",
      "1             6\n",
      "2            10\n",
      "3            15\n",
      "4            10\n",
      "..          ...\n",
      "390           9\n",
      "391          16\n",
      "392          10\n",
      "393          12\n",
      "394           9\n",
      "\n",
      "[395 rows x 1 columns]\n",
      "\n",
      "Durchschnittsnoten für die Prüfungszeitpunkte G1, G2 und G3:\n",
      "G1    10.908861\n",
      "G2    10.713924\n",
      "G3    10.415190\n",
      "dtype: float64\n"
     ]
    }
   ],
   "source": [
    "import pandas as pd\n",
    "\n",
    "\n",
    "def analyze_student_results(file):\n",
    "    # Einlesen der CSV-Datei\n",
    "    df = pd.read_csv(filepath_or_buffer=file, sep=\";\")\n",
    "\n",
    "    # Anzahl der Teilnehmenden\n",
    "    num_students = df.shape[0]\n",
    "    print(f'Anzahl der Teilnehmenden: {num_students}')\n",
    "\n",
    "    # Beste Noten für jede:n Schüler:in\n",
    "    df['best_grade'] = df[['G1', 'G2', 'G3']].max(axis=1)\n",
    "    print(\"\\nBeste Noten für jede:n Schüler:in:\")\n",
    "    print(df[['best_grade']])\n",
    "\n",
    "    # Durchschnittsnoten für die Prüfungszeitpunkte G1, G2 und G3\n",
    "    avg_grades = df[['G1', 'G2', 'G3']].mean()\n",
    "    print(\"\\nDurchschnittsnoten für die Prüfungszeitpunkte G1, G2 und G3:\")\n",
    "    print(avg_grades)\n",
    "\n",
    "    df.to_csv(\"csv/student-mat-out.csv\")\n",
    "\n",
    "\n",
    "analyze_student_results(\"csv/student-mat.csv\")\n"
   ],
   "metadata": {
    "collapsed": false,
    "ExecuteTime": {
     "end_time": "2023-06-22T18:05:34.763723500Z",
     "start_time": "2023-06-22T18:05:34.744213300Z"
    }
   }
  },
  {
   "cell_type": "markdown",
   "source": [
    "Und damit wären wir am Ende dieses Übungsblattes. Mögen die nächsten ebenfalls so einfach zu bezwingen sein.\n",
    "\n",
    "![Inosuke](https://media.tenor.com/IIC1Uv5NBgsAAAAC/inosuke-kimetsu.gif)"
   ],
   "metadata": {
    "collapsed": false
   }
  },
  {
   "cell_type": "markdown",
   "source": [],
   "metadata": {
    "collapsed": false
   }
  }
 ],
 "metadata": {
  "kernelspec": {
   "display_name": "Python 3",
   "language": "python",
   "name": "python3"
  },
  "language_info": {
   "codemirror_mode": {
    "name": "ipython",
    "version": 2
   },
   "file_extension": ".py",
   "mimetype": "text/x-python",
   "name": "python",
   "nbconvert_exporter": "python",
   "pygments_lexer": "ipython2",
   "version": "2.7.6"
  }
 },
 "nbformat": 4,
 "nbformat_minor": 0
}
