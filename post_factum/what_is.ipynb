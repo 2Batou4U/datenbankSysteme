{
 "cells": [
  {
   "cell_type": "markdown",
   "source": [
    "Die Übungsblätter sind bearbeitet und ich habe $20 für early-access zu ChatGPT 4 rausgeschillert.\n",
    "In Folgendem befinden sich die Lösungen der früheren Aufgabenblätter, schön beschrieben und bearbeitet von ChatGPT.\n",
    "\n",
    "Bei Grafiken wird die KI von Adrians künstlerischer Hand unterstützt."
   ],
   "metadata": {
    "collapsed": false
   }
  }
 ],
 "metadata": {
  "kernelspec": {
   "display_name": "Python 3",
   "language": "python",
   "name": "python3"
  },
  "language_info": {
   "codemirror_mode": {
    "name": "ipython",
    "version": 2
   },
   "file_extension": ".py",
   "mimetype": "text/x-python",
   "name": "python",
   "nbconvert_exporter": "python",
   "pygments_lexer": "ipython2",
   "version": "2.7.6"
  }
 },
 "nbformat": 4,
 "nbformat_minor": 0
}
