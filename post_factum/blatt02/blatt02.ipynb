{
 "cells": [
  {
   "cell_type": "markdown",
   "source": [
    "## Übungsblatt 2\n",
    "\n",
    "#### Aufgabe 1\n",
    "\n",
    "1. Ein Beispiel für eine solche Beziehung in der realen Welt könnte das Verhältnis zwischen Personen (E1) und Autos (E2) sein. Jede Person kann ein Auto besitzen oder auch nicht, aber nicht jedes Auto hat notwendigerweise einen Besitzer (es könnte sich um ein unverkauftes Neufahrzeug auf einem Autohausparkplatz handeln). Daher wäre es in diesem Fall besser, die Beziehung in der Entität E2 (Autos) zu repräsentieren, indem man den Fremdschlüssel des Besitzers in die Tabelle der Autos aufnimmt. Auf diese Weise könnten wir die Menge der Nullwerte in der Tabelle der Personen (die kein Auto besitzen) vermeiden.\n",
    "\n",
    "2. Ein weiteres Beispiel könnte das Verhältnis zwischen Büchern (E1) und Autoren (E2) sein. Nicht jedes Buch hat einen Autor (beispielsweise anonym veröffentlichte Werke) und nicht jeder Autor hat ein Buch geschrieben. In diesem Fall könnte eine separate Beziehungstabelle (R) sinnvoll sein, in der jedes Tupel eine Beziehung zwischen einem Buch und einem Autor repräsentiert.\n",
    "\n",
    "Vorteile einer separaten Beziehungstabelle:\n",
    "   - Normalisierung: Eine separate Beziehungstabelle kann Redundanzen verhindern und die Datenintegrität sicherstellen.\n",
    "   - Flexibilität: Sie kann mehrere Beziehungen zwischen den gleichen Entitäten handhaben (z.B. wenn ein Autor mehrere Bücher geschrieben hat).\n",
    "\n",
    "Nachteile einer separaten Beziehungstabelle:\n",
    "   - Komplexität: Die Anzahl der Tabellen und die Komplexität der Abfragen kann erhöht werden.\n",
    "   - Leistungsprobleme: Es könnten Leistungsprobleme auftreten, wenn die Beziehungstabelle sehr groß wird und häufige Joins erforderlich sind.\n",
    "\n",
    "#### Aufgabe 2\n",
    "```python\n",
    "# TODO: Grafik bearbeiten\n",
    "```\n",
    "\n",
    "#### Aufgabe 3\n",
    "Dieses Schema scheint Mitarbeiter (mitarbeitnr, mitarbeitname, mitarbeitgehalt) und Studenten (studnr, studname, diplthema, diplnote) in einer einzigen Tabelle (lehrstuhl) zu mischen. Dies kann zu mehreren Anomalien führen:\n",
    "\n",
    "1. Einfügeanomalie:\n",
    "   - Angenommen, wir möchten einen neuen Mitarbeiter hinzufügen, der noch keinen Studenten betreut. Da die Studenteninformationen fehlen, müssten wir entweder NULL-Werte einfügen oder den neuen Mitarbeiter überhaupt nicht in die Datenbank aufnehmen. Beide Fälle sind nicht ideal.\n",
    "\n",
    "2. Löschanomalie:\n",
    "   - Angenommen, ein Student schließt sein Studium ab und wir möchten seine Daten aus der Datenbank entfernen. Da seine Daten in der gleichen Tabelle mit den Mitarbeiterdaten gespeichert sind, würden wir auch die Daten des betreuenden Mitarbeiters verlieren, wenn wir den Studenten löschen.\n",
    "\n",
    "3. Updateanomalie:\n",
    "   - Angenommen, ein Mitarbeiter bekommt eine Gehaltserhöhung. Wenn dieser Mitarbeiter mehrere Studenten betreut, sind seine Daten möglicherweise mehrfach in der Datenbank vorhanden (einmal für jeden Studenten). Das Gehalt muss in jeder Zeile aktualisiert werden, was zu Inkonsistenzen führen kann, wenn nicht alle Zeilen korrekt aktualisiert werden.\n",
    "\n",
    "Diese Anomalien zeigen, warum es wichtig ist, die Daten korrekt zu normalisieren und verschiedene Entitäten in separaten Tabellen zu speichern.\n",
    "\n",
    "#### Aufgabe 4\n",
    "1. Alle Titel der Vorlesungen (Courses) mit weniger als 4 SCH\n",
    "   - Relationale Algebra (RA): $\\pi_{Title}(\\sigma_{SCH<4}(Courses))$\n",
    "   - Tupel-Kalkül: $\\{c.Title | c \\in Courses \\land c.SCH < 4\\}$\n",
    "   - Domainen-Kalkül: $\\{\\[t\\] | \\exists s : Course(\\_, t, s, \\_) \\} \\land s < 4$\n",
    "\n",
    "2. Die Namen aller Profs, die keine Vorlesungen halten.\n",
    "   - Relationale Algebra (RA): $\\pi_{Name}(Professor) - \\pi_{Name}(Professor \\Join \\rho_{PerNo} \\leftarrow TaughtBy(Courses))$\n",
    "   - Tupel-Kalkül: $\\{p.Name | p \\in Professor \\land \\nexists c: (c \\in Courses \\land p.CouNo = c.CouNo)\\}$\n",
    "   - Domainen-Kalkül:  $\\{\\[n\\] | \\nexists p : Professor(p, n, \\_, \\_) \\land Course(\\_, \\_, \\_, p)\\}$\n",
    "\n",
    "3. Alle Voraussetzungen (CouNo) für die Vorlesung Wissenschaftstheorie (CouNo=5052).\n",
    "   - Relationale Algebra (RA): $\\pi_{Predecessor}(\\sigma_{CouNo=5052}(require))$\n",
    "   - Tupel-Kalkül: $\\{r.Predecessor | require(r) \\land r.Successor = 5052 \\}$\n",
    "   - Domainen-Kalkül: $\\{\\[p\\] | \\exists s : require(p, s) \\land s = 5052\\}$"
   ],
   "metadata": {
    "collapsed": false
   }
  },
  {
   "cell_type": "markdown",
   "source": [
    "Aufgabe 5 kann [hier](blatt02/U2_5.ipynb) nachgeschaut werden."
   ],
   "metadata": {
    "collapsed": false
   }
  }
 ],
 "metadata": {
  "kernelspec": {
   "display_name": "Python 3",
   "language": "python",
   "name": "python3"
  },
  "language_info": {
   "codemirror_mode": {
    "name": "ipython",
    "version": 2
   },
   "file_extension": ".py",
   "mimetype": "text/x-python",
   "name": "python",
   "nbconvert_exporter": "python",
   "pygments_lexer": "ipython2",
   "version": "2.7.6"
  }
 },
 "nbformat": 4,
 "nbformat_minor": 0
}
