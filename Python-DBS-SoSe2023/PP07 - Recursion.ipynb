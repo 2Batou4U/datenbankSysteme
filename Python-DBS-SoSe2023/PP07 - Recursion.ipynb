{
 "cells": [
  {
   "cell_type": "markdown",
   "metadata": {},
   "source": [
    "# Python 3 Excursus for DBS\n",
    "\n",
    "Course materials based on materials/script courtesy of Prof. Pieter Spronck (Course: Data Processing with Python, and The Coder's Apprentice: Learning Programming with Python 3 by Pieter Spronck (2017), which you can find here: www.spronck.net/pythonbook.)"
   ]
  },
  {
   "cell_type": "markdown",
   "metadata": {},
   "source": [
    "## Chapter 7 - Recursion"
   ]
  },
  {
   "cell_type": "markdown",
   "metadata": {},
   "source": [
    "-----------"
   ]
  },
  {
   "cell_type": "markdown",
   "metadata": {},
   "source": [
    "Recursion is a special technique that can be used now you are able to create and use functions. Recursion can be very elegant and powerful, but students often find it hard to employ. That is why I decided to spend a separate chapter on it. "
   ]
  },
  {
   "cell_type": "markdown",
   "metadata": {},
   "source": [
    "---"
   ]
  },
  {
   "cell_type": "markdown",
   "metadata": {},
   "source": [
    "## What is recursion?"
   ]
  },
  {
   "cell_type": "markdown",
   "metadata": {},
   "source": [
    "Recursion is a technique whereby a function calls itself. In a bit more general sense, it is when a function makes calls in such a way that the function itself is still being executed while it gets called again (e.g., function `a()` calls function `b()`, which calls function `a()` again). \n",
    "\n",
    "This might sound weird when you first encounter it, but there is nothing against a function calling other functions, and a function can call any function that has been defined by the time that the call takes place. And since a function is defined by the time its code gets executed, it can call itself.\n",
    "\n",
    "\"But,\" one might say: \"if a function calls itself, then it calls itself again, and again, and again... Doesn't that mean it gets into an endless process, similar to an endless loop?\" The answer is that there is certainly a danger, with sloppy coding, that a recursive function gets into an endless loop, but recursive functions should be designed in such a way that that does not happen.\n",
    "\n",
    "There exist many problems for which recursion is the most elegant solution. Therefore it is important that you are aware of the technique, and know how and when to apply it... and its limitations."
   ]
  },
  {
   "cell_type": "markdown",
   "metadata": {},
   "source": [
    "---"
   ]
  },
  {
   "cell_type": "markdown",
   "metadata": {},
   "source": [
    "## Recursive definitions"
   ]
  },
  {
   "cell_type": "markdown",
   "metadata": {},
   "source": [
    "An example of a recursive definition is the definition of the factorial, which was already introduced in the previous two chapters. In those chapters I gave the following definition of the factorial: The factorial of a positive integer is that integer, multiplied by all positive integers that are lower (excluding zero).\n",
    "\n",
    "Mathematicians prefer the recursive definition: The factorial `n!` of any positive integer `n` is calculated as follows: `1! = 1`, and `n! = n * (n-1)!` for `n > 1`.\n",
    "\n",
    "This definition is recursive as it refers to the factorial of `n-1` to define the factorial of `n`. This is not leading to an endless recursion, however, as at some point `n-1` will be `1`, and the factorial of `1` is defined separately.\n",
    "\n",
    "You can implement the factorial as a recursive function as follows:"
   ]
  },
  {
   "cell_type": "code",
   "execution_count": null,
   "metadata": {},
   "outputs": [],
   "source": [
    "def factorial( n ):\n",
    "    if n <= 1:\n",
    "        return 1\n",
    "    return n * factorial( n-1 )\n",
    "\n",
    "print( factorial( 5 ) )"
   ]
  },
  {
   "cell_type": "markdown",
   "metadata": {},
   "source": [
    "Notice how this function describes the recursive definition of the factorial exactly: if `n` is `1`, it returns `1`, and otherwise it returns `n` times the factorial of `n-1`. (Note that I wrote `if n <= 1:` instead of `n == 1` to avoid problems with the user calling the function with, for instance, a negative `n`.)\n",
    "\n",
    "In case you have troubles understanding what happens in this function, let's describe the details of the calls it makes. I have indented calls that are made while a \"high level\" call is still active.\n",
    "\n",
    "    call factorial( 5 )\n",
    "        call factorial( 4 )\n",
    "            call factorial( 3 )\n",
    "                call factorial( 2 )\n",
    "                    call factorial( 1 )\n",
    "                        return 1\n",
    "                    return 2 * 1\n",
    "                return 3 * 2\n",
    "            return 4 * 6\n",
    "        return 5 * 24\n",
    "    print( 120 )"
   ]
  },
  {
   "cell_type": "markdown",
   "metadata": {},
   "source": [
    "### When to use recursive implementations"
   ]
  },
  {
   "cell_type": "markdown",
   "metadata": {},
   "source": [
    "Once you understand the recursive implementation of the factorial, it might look appealing. It is simple, elegant, and has a certain coolness factor. However, the iterative implementation of the factorial is *highly* preferable over the recursive one. \n",
    "\n",
    "The reason is clear from the call descriptions above. You see that before the call to `factorial( 1 )` is made, four other calls to `factorial()` already reside in memory. Should you wish to calculate the factorial of 100, no less than 100 calls to the function will reside in memory before it can start returning values. This is not a good idea, and, in fact, Python may easily run out of (stack) memory in such a case, or become really, really slow.\n",
    "\n",
    "Contrariwise, an iterative implementation of the factorial only needs to keep two variables in memory. It is fast and there is no danger of crashing. \n",
    "\n",
    "So you should only use recursive implementations if:\n",
    "- recursion is the most natural way to implement the solution; and\n",
    "- the recursive process is guaranteed not to go too deep.\n",
    "\n",
    "Any recursive process can also be implemented as an iterative process. However, occasionally you can encounter problems for which the recursive solution is much more elegant, readable, and maintainable than the iterative one. In that case, consider reverting to the recursive solution."
   ]
  },
  {
   "cell_type": "markdown",
   "metadata": {},
   "source": [
    "---"
   ]
  },
  {
   "cell_type": "markdown",
   "metadata": {},
   "source": [
    "## What you learned"
   ]
  },
  {
   "cell_type": "markdown",
   "metadata": {},
   "source": [
    "In this chapter, you learned about:\n",
    "\n",
    "- Recursive functions\n",
    "- When to use (and when not to use) recursive functions\n",
    "- The purpose of recursive functions"
   ]
  },
  {
   "cell_type": "markdown",
   "metadata": {},
   "source": [
    "---"
   ]
  },
  {
   "cell_type": "markdown",
   "metadata": {},
   "source": [
    "# Exercises"
   ]
  },
  {
   "cell_type": "markdown",
   "metadata": {},
   "source": [
    "### Exercise 7.1"
   ]
  },
  {
   "cell_type": "markdown",
   "metadata": {},
   "source": [
    "A recursive definition of the `n`th number of the Fibonacci sequence `fib(n)` states that `fib(n)` is equal to `fib(n-1) + fib(n-2)`. Moreover, `fib(1)` and `fib(2)` are both `1`. Write a recursive function that you can call with an integer argument `n` that returns the `n`th number of the Fibonacci sequence."
   ]
  },
  {
   "cell_type": "code",
   "execution_count": null,
   "metadata": {},
   "outputs": [],
   "source": [
    "# Recursive Fibonacci.\n"
   ]
  },
  {
   "cell_type": "markdown",
   "metadata": {},
   "source": [
    "### Exercise 7.2"
   ]
  },
  {
   "cell_type": "markdown",
   "metadata": {},
   "source": [
    "To get a bit more insight into how recursion works, add a `depth` parameter to your Fibonacci function from the previous exercise, that starts at zero and gets increased by 1 for every deeper call. On entry of the function, print with what number argument it was called, and when returning a value, print what you return. Use the `depth` parameter to indent the prints. Study your output."
   ]
  },
  {
   "cell_type": "code",
   "execution_count": null,
   "metadata": {
    "collapsed": true
   },
   "outputs": [],
   "source": [
    "# Recursive Fibonacci with explanations.\n"
   ]
  },
  {
   "cell_type": "markdown",
   "metadata": {},
   "source": [
    "### Exercise 7.3"
   ]
  },
  {
   "cell_type": "markdown",
   "metadata": {},
   "source": [
    "Do you think it is a good idea to implement the Fibonacci sequence recursively? Why or why not?"
   ]
  },
  {
   "cell_type": "markdown",
   "metadata": {},
   "source": [
    "### Exercise 7.4"
   ]
  },
  {
   "cell_type": "markdown",
   "metadata": {},
   "source": [
    "In the code below, I have implemented a recursive implementation of asking the user for a string, in which only lower case letters may be used. When someone enters a string with an illegal character in it, a recursive call to the function itself will ask for a new string. This looks like it avoids using the loop-and-a-half to ask the user for new inputs on incorrect inputs. While it is *always* a *bad idea* to place control over the depth of recursive calls into a user's hands, this implementation actually is not only bad, it is also quite wrong. Can you see what is wrong with it, and how that is caused? (Note: it is not the `if letter < 'a' or letter > 'z':`, those comparisons are just fine.)"
   ]
  },
  {
   "cell_type": "code",
   "execution_count": null,
   "metadata": {
    "collapsed": true
   },
   "outputs": [],
   "source": [
    "def get_input( prompt ):\n",
    "    value = input( prompt )\n",
    "    for letter in value:\n",
    "        if letter < 'a' or letter > 'z':\n",
    "            print( \"The character\", letter, \"is not allowed in the input!\")\n",
    "            value = get_input( prompt )\n",
    "    return value\n",
    "\n",
    "s = get_input( \"Give a string of lower case letters: \" )\n",
    "print( \"The user entered:\", s )"
   ]
  },
  {
   "cell_type": "markdown",
   "metadata": {},
   "source": [
    "Let me stress once more that the idea above is a *bad* one. You should not use recursion for commonplace problems that can just as well be solved by iterations. Recursion is for exceptional circumstances. Do not see this as an example of recursion, see it as an example of how *not* to use recursion! The main reason I put it here is that I sometimes observe students writing such code, and I want to make explicit that that is *not a good idea*!"
   ]
  }
 ],
 "metadata": {
  "kernelspec": {
   "display_name": "Python 3 (ipykernel)",
   "language": "python",
   "name": "python3"
  },
  "language_info": {
   "codemirror_mode": {
    "name": "ipython",
    "version": 3
   },
   "file_extension": ".py",
   "mimetype": "text/x-python",
   "name": "python",
   "nbconvert_exporter": "python",
   "pygments_lexer": "ipython3",
   "version": "3.9.4"
  }
 },
 "nbformat": 4,
 "nbformat_minor": 1
}
