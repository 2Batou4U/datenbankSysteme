{
 "cells": [
  {
   "cell_type": "markdown",
   "id": "c32db343",
   "metadata": {},
   "source": [
    "## Übungsblatt 1\n",
    "\n",
    "#### Packages\n",
    "Hallo und herzlich willkommen zum Kommentarbereich des ersten Übungsblattes ^~^\n",
    "\n",
    "Zuerst laden wir die ganzen [packages](https://en.wikipedia.org/wiki/Python_Package_Index).\n",
    "\n",
    "Wir brauchen:\n",
    "1. [**os**](https://docs.python.org/3/library/os.html), um die Pfade zu definieren und um neue Dateien/Ordner zu erstellen\n",
    "2. [**csv**](https://docs.python.org/3/library/csv.html), um die CSV Dateien auszulesen; man könnte eine ähnliche Funktionalität mithilfe von Pandas erreichen, jedoch wollte ich ohne große Hilfsmittel die Logik nachahmen.\n",
    "3. [**re**](https://docs.python.org/3/library/re.html), um mit RegEx die Spaltennamen zu finden, die die Noten enthalten.\n",
    "4. [**numpy**](https://pypi.org/project/numpy/), unter dem Namen np, um den Durchschnitt und den maximalen Wert zu berechnen."
   ]
  },
  {
   "cell_type": "code",
   "execution_count": 1,
   "id": "6e9adae5",
   "metadata": {
    "ExecuteTime": {
     "start_time": "2023-04-25T16:28:20.271896Z",
     "end_time": "2023-04-25T16:28:20.829154Z"
    }
   },
   "outputs": [],
   "source": [
    "import os\n",
    "import csv\n",
    "import re\n",
    "\n",
    "import numpy as np"
   ]
  },
  {
   "cell_type": "markdown",
   "id": "732527dd",
   "metadata": {},
   "source": [
    "#### Directories\n",
    "Jetzt laden wir die ganzen Pfade für die Dateien. BASE_DIR löst mit os in unserem Arbeitsverzeichnis auf und CSV_DIR zeigt auf einen untergeordneten Ordner, der die CSVs und ihren Output speichern soll."
   ]
  },
  {
   "cell_type": "code",
   "execution_count": 2,
   "id": "73746312",
   "metadata": {
    "ExecuteTime": {
     "start_time": "2023-04-25T16:28:20.671121Z",
     "end_time": "2023-04-25T16:28:20.860635Z"
    }
   },
   "outputs": [],
   "source": [
    "BASE_DIR: str = os.getcwd()\n",
    "CSV_DIR: str = os.path.join(BASE_DIR, 'csv')"
   ]
  },
  {
   "cell_type": "markdown",
   "id": "1e8aa986",
   "metadata": {},
   "source": [
    "#### Dateneingang\n",
    "Diese Funktion liest die CSV Datei Reihe für Reihe aus. Sollte der CSV Ordner nicht existieren so kann man dieses Programm ohne Argumente ausführen, damit einer initialisiert wird.\n",
    "\n",
    "Es wird überprüft, ob unser Pfadzeiger tatsächlich auf eine CSV Datei hinweist und ob diese existiert. Sollte dies zutreffen wird die Datei Zeile für Zeile ausgelesen und in einer Liste, die Listen enthält gespeichert, quasi wie ein 3D-Array. Sonst erhebt die Funktion eine Exception, die gefangen werden muss."
   ]
  },
  {
   "cell_type": "code",
   "execution_count": 3,
   "id": "55b1d6ba",
   "metadata": {
    "ExecuteTime": {
     "start_time": "2023-04-25T16:28:20.683840Z",
     "end_time": "2023-04-25T16:28:20.860635Z"
    }
   },
   "outputs": [],
   "source": [
    "def read_csv_data(file_name: str) -> list:\n",
    "    csv_data: list = []\n",
    "\n",
    "    if not os.path.exists(CSV_DIR):\n",
    "        os.makedirs(CSV_DIR)\n",
    "\n",
    "    if file_name.endswith('.csv') and os.path.exists(file_name):\n",
    "        with open(file=file_name, mode='r') as csv_file:\n",
    "            csv_in = csv.reader(csv_file, quotechar='\"', delimiter=\";\")\n",
    "            for row in csv_in:\n",
    "                csv_data.append(row)\n",
    "    else:\n",
    "        raise Exception(\"Path given doesn't point to a .csv file\")\n",
    "\n",
    "    return csv_data"
   ]
  },
  {
   "cell_type": "markdown",
   "id": "a4ecce77",
   "metadata": {},
   "source": [
    "#### Datenanalyse\n",
    "Diese Funktion analysiert die Daten pro Reihe, berechnet Max und Mean und schreibt sie in eine neue Liste, die zurückgegeben wird.\n",
    "\n",
    "Bei der ersten Zeile, die die Überschriften enthält, fügen wir die Spaltennamen 'G_MAX' und 'G_MEAN' hinzu, wobei das erstere die beste erhaltene Note ist und das letztere der Notendurchschnitt.\n",
    "\n",
    "Danke RegEx kann sich die Anzahl der Spalten oder deren Namen änder und wir können mit minimalem Aufwand diese Änderungen umsetzen. Wir speichern die Indizes der Notenfelder, um sie später auswerten.\n",
    "\n",
    "Zum Auswerten benutzen wir numpy, der die nötigen Operationen integriert, somit lässt sich unser Problem durch Einzeiler lösen. Wir runden die Durchschnittswerte ab, damit diese Excel nicht kaputt machen, Gott weißt dass sie es können. ☺"
   ]
  },
  {
   "cell_type": "code",
   "execution_count": 4,
   "id": "a4f8b171",
   "metadata": {
    "ExecuteTime": {
     "start_time": "2023-04-25T16:28:20.696199Z",
     "end_time": "2023-04-25T16:28:20.860635Z"
    }
   },
   "outputs": [],
   "source": [
    "def analyze_student_results(csv_data: list) -> list:\n",
    "    csv_processed: list = []\n",
    "    g_columns: list = []\n",
    "        \n",
    "    for idx, row in enumerate(csv_data):\n",
    "        if idx == 0:\n",
    "            for g_idx, cell in enumerate(row):\n",
    "                if re.match(r\"^G[0-9]$\", cell):\n",
    "                    g_columns.append(g_idx)\n",
    "\n",
    "            csv_processed.append(row + ['G_MAX', 'G_MEAN'])\n",
    "\n",
    "        else:\n",
    "            grades: list = []\n",
    "                \n",
    "            for g_column in g_columns:\n",
    "                grades.append(int(row[g_column]))\n",
    "\n",
    "            g_max: int = np.max(grades)\n",
    "            g_mean: float = round(np.average(grades), 2)\n",
    "            csv_processed.append(row + [str(g_max), str(g_mean)])\n",
    "            \n",
    "    return csv_processed"
   ]
  },
  {
   "cell_type": "markdown",
   "id": "2915be6d",
   "metadata": {},
   "source": [
    "#### Datenausgang\n",
    "Diese Funktion schreibt die Dateien in eine Datei zurück. Es wird ein Pfad und die Inhalte der zu erstellenden CSV gegeben, wobei zu beachten ist, dass Namenskonflikte im Überschreiben der existierenden Datei enden.\n",
    "\n",
    "Wiederholt wird mittels des csv Packages der Datenfluss in die Datei gedumpt."
   ]
  },
  {
   "cell_type": "code",
   "execution_count": 5,
   "id": "30994a42",
   "metadata": {
    "ExecuteTime": {
     "start_time": "2023-04-25T16:28:20.707662Z",
     "end_time": "2023-04-25T16:28:20.860635Z"
    }
   },
   "outputs": [],
   "source": [
    "def write_csv_data(csv_data: list, file_name: str) -> None:\n",
    "    if os.path.exists(file_name):\n",
    "        os.remove(file_name)\n",
    "\n",
    "    with open(file=file_name, mode='w', newline='') as csv_file:\n",
    "        csv_writer = csv.writer(csv_file, quotechar='\"', delimiter=\";\")\n",
    "        for row in csv_data:\n",
    "            csv_writer.writerow(row)"
   ]
  },
  {
   "cell_type": "markdown",
   "id": "677800e0",
   "metadata": {},
   "source": [
    "#### Testlauf\n",
    "Kurze Testausführung unserer Logik. Wir laden zuerst die Datei 'student-mat.csv', die die Noten der Schüler und deren Noten enthält. \n",
    "\n",
    "Danach schicken wir sie zur Analyse, damit der Durchschnitt und der Maximalwert hinzugefügt werden. Das Ergebnis wird in csv_data_processed gespeichert.\n",
    "\n",
    "Anschließend schicken wir die Inhalte unserer Listen zurück in eine CSV-Datei.\n",
    "\n",
    "student_amount zählt im Einzeiler die Menge der Reihen und subtrahiert die erste, da diese nur Spaltennamen enthält."
   ]
  },
  {
   "cell_type": "code",
   "execution_count": 6,
   "id": "50a6e401",
   "metadata": {
    "ExecuteTime": {
     "start_time": "2023-04-25T16:28:21.609555Z",
     "end_time": "2023-04-25T16:28:21.653035Z"
    }
   },
   "outputs": [],
   "source": [
    "file_in = os.path.join(CSV_DIR, 'student-mat.csv')\n",
    "student_amount = sum(1 for line in open(file_in)) - 1\n",
    "\n",
    "file_out = os.path.join(CSV_DIR, f'student-mat-out-total-{student_amount}.csv')\n",
    "\n",
    "csv_data = read_csv_data(file_name=file_in)\n",
    "csv_data_processed = analyze_student_results(csv_data=csv_data)\n",
    "write_csv_data(csv_data=csv_data_processed, file_name=file_out)"
   ]
  },
  {
   "cell_type": "markdown",
   "id": "d30d06c9",
   "metadata": {},
   "source": [
    "Created 2023 by [2Batou4U](https://github.com/2Batou4U)"
   ]
  }
 ],
 "metadata": {
  "kernelspec": {
   "display_name": "Python 3 (ipykernel)",
   "language": "python",
   "name": "python3"
  },
  "language_info": {
   "codemirror_mode": {
    "name": "ipython",
    "version": 3
   },
   "file_extension": ".py",
   "mimetype": "text/x-python",
   "name": "python",
   "nbconvert_exporter": "python",
   "pygments_lexer": "ipython3",
   "version": "3.11.2"
  }
 },
 "nbformat": 4,
 "nbformat_minor": 5
}
