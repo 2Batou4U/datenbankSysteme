{
 "cells": [
  {
   "cell_type": "markdown",
   "source": [
    "# Blatt 4\n",
    "\n",
    "Hier ist das [Blatt](DBS_SS23_Uebungsblatt-04.pdf). Fangen wir mit der Definition von einem Full-Outer-Join an (brought to you by ChatGPT)."
   ],
   "metadata": {
    "collapsed": false
   }
  },
  {
   "cell_type": "markdown",
   "source": [
    "## Aufgabe 4\n",
    "\n",
    "#### 1. Was ist ein Full Outer Join?\n",
    "\n",
    "Ein Full Outer Join ist eine Art von Join-Operation in einer Datenbank, die Datensätze aus zwei Tabellen basierend auf einer gemeinsamen Spalte oder Bedingung kombiniert. Im Gegensatz zu anderen Joins wie dem Inner Join oder dem Left Outer Join, gibt der Full Outer Join alle Zeilen aus beiden Tabellen zurück, auch wenn es keine Übereinstimmungen zwischen den Tabellen gibt.\n",
    "\n",
    "Die Funktionsweise eines Full Outer Joins lässt sich am besten anhand eines Beispiels erklären. Angenommen, wir haben zwei Tabellen: \"Tabelle A\" und \"Tabelle B\". Beide Tabellen enthalten eine Spalte namens \"ID\", die als gemeinsame Spalte fungiert.\n",
    "\n",
    "Der Full Outer Join kombiniert die Datensätze beider Tabellen basierend auf der ID-Spalte. Dabei gibt es drei mögliche Szenarien:\n",
    "\n",
    "1. Wenn eine ID in beiden Tabellen vorhanden ist, werden die entsprechenden Zeilen aus beiden Tabellen kombiniert.\n",
    "2. Wenn eine ID nur in Tabelle A vorhanden ist, wird die Zeile aus Tabelle A beibehalten und die Werte in den Spalten von Tabelle B werden mit NULL-Werten aufgefüllt.\n",
    "3. Wenn eine ID nur in Tabelle B vorhanden ist, wird die Zeile aus Tabelle B beibehalten und die Werte in den Spalten von Tabelle A werden mit NULL-Werten aufgefüllt.\n",
    "\n",
    "Das Ergebnis des Full Outer Joins ist eine kombinierte Tabelle mit allen Zeilen aus beiden Tabellen, wobei NULL-Werte verwendet werden, wenn keine Übereinstimmung in der gemeinsamen Spalte gefunden wird.\n",
    "\n",
    "#### 2. Wie kann man einen Full Outer Join in MariaDB simulieren?\n",
    "\n",
    "Man kann einen Right-Join und einen Left-Join machen. Danach verbindet man beide per Union.\n",
    "\n",
    "```sql\n",
    "use uniDB;\n",
    "select * from Assistant left join Professor P on P.PerNo = Assistant.Boss\n",
    "union\n",
    "select * from Assistant right join Professor P2 on P2.PerNo = Assistant.Boss;\n",
    "```\n",
    "\n",
    "#### 3. FOJ für Student und Kurs:\n",
    "\n",
    "Man macht das wie folgt: Man holt sich alle Spalten aus dem linken Join der Student-Tabelle mit der attend-Tabelle, dadurch bekommen wir eine Tabelle wo auf jeden Fall jeder Student vertreten ist, aber nicht jeder Student ist in attend vertreten. Mit dieser Tabelle machen wir einen linken Join zu Course, um uns die Informationen zu den Kursen zu holen. Auf der anderen Seite machen wir einen rechten Join von Student auf attend, das gibt uns alle Spalten aus attend, womöglich nicht alle aus Student. Dann machen wir einen rechten Join auf Course, d.h. es sind mindestens alle Kurse in der Tabelle vertreten, aber nicht mehr alle Studenten.\n",
    "```sql\n",
    "select * from Student left join attend a on Student.StuNo = a.StuNo left join Course C on a.CouNo = C.CouNo\n",
    "union\n",
    "select * from Student right join attend a on Student.StuNo = a.StuNo right join Course C on a.CouNo = C.CouNo;\n",
    "```"
   ],
   "metadata": {
    "collapsed": false
   }
  },
  {
   "cell_type": "markdown",
   "source": [
    "Erstellen der Room-Tabelle, wir erstellen für die beiden ForeignKeys die zugehörigen Spalten; durch den Check wird sichergegangen, dass mindestens eine der Spalte bei einem neuen Tupel leer ist (XOR). Danach fügen wir der neu erstellten Tabelle die Tupel aus Professor und löschen die Spalte Room aus Professor:\n",
    "```mariadb\n",
    "create table Room\n",
    "(\n",
    "    Build_No int default 1,\n",
    "    Room_No int not null,\n",
    "    Per_No_Prof int null,\n",
    "    Per_No_Assi int null,\n",
    "    foreign key (Per_No_Prof) references Professor(PerNo) on delete set null,\n",
    "    foreign key (Per_No_Assi) references Assistant(PerNo) on delete set null,\n",
    "    check ( (Per_No_Assi is not null and Per_No_Prof is null) or (Room.Per_No_Prof is not null and Room.Per_No_Assi is null))\n",
    ");\n",
    "\n",
    "insert into Room (Per_No_Prof, Room_No) (select PerNo, Room from Professor);\n",
    "alter table Professor drop column Room;\n",
    "commit;\n",
    "```"
   ],
   "metadata": {
    "collapsed": false
   }
  },
  {
   "cell_type": "markdown",
   "source": [
    "insert into teach (TaughtBy, CouNo) (SELECT TaugthBy, CouNo From Professor RIGHT JOIN Course C on Professor.PerNo = C.TaugthBy)"
   ],
   "metadata": {
    "collapsed": false
   }
  },
  {
   "cell_type": "code",
   "execution_count": null,
   "outputs": [],
   "source": [],
   "metadata": {
    "collapsed": false
   }
  }
 ],
 "metadata": {
  "kernelspec": {
   "display_name": "Python 3",
   "language": "python",
   "name": "python3"
  },
  "language_info": {
   "codemirror_mode": {
    "name": "ipython",
    "version": 2
   },
   "file_extension": ".py",
   "mimetype": "text/x-python",
   "name": "python",
   "nbconvert_exporter": "python",
   "pygments_lexer": "ipython2",
   "version": "2.7.6"
  }
 },
 "nbformat": 4,
 "nbformat_minor": 0
}
