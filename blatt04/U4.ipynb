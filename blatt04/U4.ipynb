{
 "cells": [
  {
   "cell_type": "markdown",
   "source": [
    "# Blatt 4\n",
    "\n",
    "Hi, Hallo, herzlichst Willkommen! Hier ist das [Blatt](DBS_SS23_Uebungsblatt-04.pdf). Diesmal gibt es mehrere Aufgaben zu SQL, diese werden hier anstatt bei OneNote bearbeitet, weil ich gestern 10 Minuten nach meinen Lösungen für Blatt 3 bei PyCharm gesucht habe."
   ],
   "metadata": {
    "collapsed": false
   }
  },
  {
   "cell_type": "markdown",
   "source": [
    "    ## Aufgabe 1\n",
    "Damit man Aufgabe 1 versteht, muss ich mir erstmal ein paar Definitionen machen, wenn ich später lernen will, Atzmüller erklärt das alles kacke.\n",
    "#### Funktionale Abhängigkeiten\n",
    "Eine funktionale Abhängigkeit (FA) ist eine Abhängigkeit zwischen Spalten (Attributen) einer oder mehrerer Tabellen (Relationen).\n",
    "\n",
    "Eine funktionale Abhängigkeit zwischen zwei Attributmengen wird definiert als eine Beziehung, bei der der Wert einer oder mehrerer Attribute in der einen Menge den Wert anderer Attribute in der gleichen oder einer anderen Menge eindeutig bestimmt. Mit anderen Worten, wenn eine funktionale Abhängigkeit besteht, kann der Wert einer bestimmten Attributmengen-Kombination den Wert einer anderen Attributmengen-Kombination vorhersagen.\n",
    "\n",
    "Eine funktionale Abhängigkeit wird in der Form $X \\rightarrow Y$ dargestellt, wobei $X$ und $Y$ Attributmengen sind. $X$ wird als linke Seite (Determinante) bezeichnet, während $Y$ als rechte Seite (Abhängige) bezeichnet wird. Diese Notation bedeutet, dass der Wert von $Y$ eindeutig durch den Wert von $X$ bestimmt wird.\n",
    "\n",
    "Um zu bestimmen, ob es sich bei den funktionalen Abhängigkeiten um Superschlüssel oder Kandidatenschlüssel handelt, müssen wir die Eindeutigkeit der Tupel überprüfen.\n",
    "\n",
    "Die gegebene Relation ist $R(A, B, C, D, E)$ mit den funktionalen Abhängigkeiten:\n",
    "\n",
    "$$\n",
    "A   \\rightarrow B \\newline\n",
    "AB  \\rightarrow CDE\\\\\n",
    "C   \\rightarrow DE\\\\\n",
    "E   \\rightarrow DB\\\\\n",
    "DE  \\rightarrow AC\n",
    "$$"
   ],
   "metadata": {
    "collapsed": false
   }
  },
  {
   "cell_type": "markdown",
   "source": [
    "## Aufgabe 2\n",
    "In Aufgabe 2 sollen wir die **UniDB** optimieren, indem wir Informationen in **Relationstabellen** auslagern und diese entsprechend beim Löschen der zugehörigen Relationen **kaskadieren** oder **nullifizieren** lassen.\n",
    "\n",
    "#### 1. Rooms\n",
    "Es ist unmöglich eine Spalte auf 2 ForeignKeys zu erweitern. Wir können der Spalte zwar zwei Constraints anfügen, aber dann werden sich diese gegenseitig Fehler aufwerfen. Wir erstellen für die beiden ForeignKeys aus Professor und Assistant die zugehörigen Spalten; außerdem definieren wir uns die Spalten RoomNo und BuildNo, die jeweils die Raumnummer beinhaltet, sowie wahrscheinlich zukünftig eine Gebäudenummer in einer anderen Tabelle.\n",
    "\n",
    "Zu guter Letzt definieren wir uns zwei Checks, die sichergehen, dass genau eine der Spalten PerNoProf oder PerNoAssi einen Wert hat; also eine XOR-Bedingung:\n",
    "\n",
    "| PerNoProf | PerNoAssi | Akzeptiert? |\n",
    "|:---------:|:---------:|:-----------:|\n",
    "|   Nein    |   Nein    |    Nein     |\n",
    "|   Nein    |    Ja     |     Ja      |\n",
    "|    Ja     |   Nein    |     Ja      |\n",
    "|    Ja     |    Ja     |    Nein     |\n",
    "\n",
    "Der SQL-Befehl sieht folgendermaßen aus:\n",
    "\n",
    "```sql\n",
    "create table Room\n",
    "(\n",
    "    BuildNo int default 0,\n",
    "    RoomNo int not null,\n",
    "    PerNoProf int null,\n",
    "    PerNoAssi int null,\n",
    "\n",
    "    foreign key (PerNoProf) references Professor(PerNo) on delete set null,\n",
    "    foreign key (PerNoAssi) references Assistant(PerNo) on delete set null,\n",
    "\n",
    "    check ( (Room.PerNoAssi is not null and Room.PerNoProf is null) or (Room.PerNoProf is not null and Room.PerNoAssi is null))\n",
    ");\n",
    "```\n",
    "\n",
    "Im Anschluss daran können wir die Beziehungen aus Professor auskoppeln und schließlich die Spalten löschen:\n",
    "\n",
    "```sql\n",
    "insert into Room (Per_No_Prof, Room_No) (select PerNo, Room from Professor);\n",
    "alter table Professor drop column Room;\n",
    "commit;\n",
    "```\n",
    "\n",
    "#### 2. teaches\n",
    "\n",
    "Wir erstellen eine Tabelle teach, die die Relationen zwischen Professor und Kurs speichert. Beim Löschen eines Tupels aus Professor kaskadiert sich die Löschen-Aktion zu teach und löscht die korrespondierenden Einträge."
   ],
   "metadata": {
    "collapsed": false
   }
  },
  {
   "cell_type": "markdown",
   "source": [
    "## Aufgabe 4\n",
    "\n",
    "#### 1. Was ist ein Full Outer Join?\n",
    "\n",
    "Ein Full Outer Join ist eine Art von Join-Operation in einer Datenbank, die Datensätze aus zwei Tabellen basierend auf einer gemeinsamen Spalte oder Bedingung kombiniert. Im Gegensatz zu anderen Joins wie dem Inner Join oder dem Left Outer Join, gibt der Full Outer Join alle Zeilen aus beiden Tabellen zurück, auch wenn es keine Übereinstimmungen zwischen den Tabellen gibt.\n",
    "\n",
    "Die Funktionsweise eines Full Outer Joins lässt sich am besten anhand eines Beispiels erklären. Angenommen, wir haben zwei Tabellen: \"Tabelle A\" und \"Tabelle B\". Beide Tabellen enthalten eine Spalte namens \"ID\", die als gemeinsame Spalte fungiert.\n",
    "\n",
    "Der Full Outer Join kombiniert die Datensätze beider Tabellen basierend auf der ID-Spalte. Dabei gibt es drei mögliche Szenarien:\n",
    "\n",
    "1. Wenn eine ID in beiden Tabellen vorhanden ist, werden die entsprechenden Zeilen aus beiden Tabellen kombiniert.\n",
    "2. Wenn eine ID nur in Tabelle A vorhanden ist, wird die Zeile aus Tabelle A beibehalten und die Werte in den Spalten von Tabelle B werden mit NULL-Werten aufgefüllt.\n",
    "3. Wenn eine ID nur in Tabelle B vorhanden ist, wird die Zeile aus Tabelle B beibehalten und die Werte in den Spalten von Tabelle A werden mit NULL-Werten aufgefüllt.\n",
    "\n",
    "Das Ergebnis des Full Outer Joins ist eine kombinierte Tabelle mit allen Zeilen aus beiden Tabellen, wobei NULL-Werte verwendet werden, wenn keine Übereinstimmung in der gemeinsamen Spalte gefunden wird.\n",
    "\n",
    "#### 2. Wie kann man einen Full Outer Join in MariaDB simulieren?\n",
    "\n",
    "Man kann einen Right-Join und einen Left-Join machen. Danach verbindet man beide per Union.\n",
    "\n",
    "```sql\n",
    "use uniDB;\n",
    "select * from Assistant left join Professor P on P.PerNo = Assistant.Boss\n",
    "union\n",
    "select * from Assistant right join Professor P2 on P2.PerNo = Assistant.Boss;\n",
    "```\n",
    "\n",
    "#### 3. FOJ für Student und Kurs:\n",
    "\n",
    "Man macht das wie folgt: Man holt sich alle Spalten aus dem linken Join der Student-Tabelle mit der attend-Tabelle, dadurch bekommen wir eine Tabelle wo auf jeden Fall jeder Student vertreten ist, aber nicht jeder Student ist in attend vertreten. Mit dieser Tabelle machen wir einen linken Join zu Course, um uns die Informationen zu den Kursen zu holen. Auf der anderen Seite machen wir einen rechten Join von Student auf attend, das gibt uns alle Spalten aus attend, womöglich nicht alle aus Student. Dann machen wir einen rechten Join auf Course, d.h. es sind mindestens alle Kurse in der Tabelle vertreten, aber nicht mehr alle Studenten.\n",
    "```sql\n",
    "select * from Student left join attend a on Student.StuNo = a.StuNo left join Course C on a.CouNo = C.CouNo\n",
    "union\n",
    "select * from Student right join attend a on Student.StuNo = a.StuNo right join Course C on a.CouNo = C.CouNo;\n",
    "```"
   ],
   "metadata": {
    "collapsed": false
   }
  },
  {
   "cell_type": "markdown",
   "source": [
    "insert into teach (TaughtBy, CouNo) (SELECT TaugthBy, CouNo From Professor RIGHT JOIN Course C on Professor.PerNo = C.TaugthBy)"
   ],
   "metadata": {
    "collapsed": false
   }
  },
  {
   "cell_type": "code",
   "execution_count": null,
   "outputs": [],
   "source": [],
   "metadata": {
    "collapsed": false
   }
  }
 ],
 "metadata": {
  "kernelspec": {
   "display_name": "Python 3",
   "language": "python",
   "name": "python3"
  },
  "language_info": {
   "codemirror_mode": {
    "name": "ipython",
    "version": 2
   },
   "file_extension": ".py",
   "mimetype": "text/x-python",
   "name": "python",
   "nbconvert_exporter": "python",
   "pygments_lexer": "ipython2",
   "version": "2.7.6"
  }
 },
 "nbformat": 4,
 "nbformat_minor": 0
}
